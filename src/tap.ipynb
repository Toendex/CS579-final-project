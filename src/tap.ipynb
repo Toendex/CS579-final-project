{
 "metadata": {
  "name": "",
  "signature": "sha256:beb5f9a38c842d2762c77e190c8cd23960144a8fe1dd1357c48669b89d828441"
 },
 "nbformat": 3,
 "nbformat_minor": 0,
 "worksheets": [
  {
   "cells": [
    {
     "cell_type": "code",
     "collapsed": false,
     "input": [
      "import ConfigParser\n",
      "import sys\n",
      "import time\n",
      "from datetime import datetime\n",
      "import matplotlib.pyplot as plt\n",
      "import networkx as nx\n",
      "import os\n",
      "import cPickle\n",
      "from collections import Counter\n",
      "\n",
      "infiles=[]\n",
      "inpath='rest_data/'\n",
      "if not os.path.exists(inpath):\n",
      "    print inpath,'not exist! Program exit.'\n",
      "    exit()\n",
      "for i in range(0,24):\n",
      "    si=str(i)\n",
      "    if os.path.exists(inpath+si):\n",
      "        infile=open(inpath+si,'rb')\n",
      "    else:\n",
      "        print inpath+si,'not exist! Program exit.'\n",
      "        exit()\n",
      "    infiles.append(infile)\n",
      "    \n",
      "outfiles=[]\n",
      "outpath='rest_data_refined/'\n",
      "if not os.path.exists(outpath):\n",
      "    os.makedirs(outpath)\n",
      "for i in range(0,24):\n",
      "    si=str(i)\n",
      "    if os.path.exists(outpath+si):\n",
      "        outfile=open(outpath+si,'ab')\n",
      "    else:\n",
      "        outfile=open(outpath+si,'wb')\n",
      "    outfiles.append(outfile)\n",
      "\n",
      "RNCounter=Counter()\n",
      "zeroRNCounter=Counter()\n",
      "oneRNCounter=Counter()\n",
      "twoRNCounter=Counter()\n",
      "ifCheckNextTweet=False\n",
      "tn=0\n",
      "for i in range(0,24):\n",
      "    print i,\n",
      "    while True:\n",
      "        try:\n",
      "#             if tn==100:\n",
      "#                 tn=0\n",
      "#                 break\n",
      "\n",
      "            if ifCheckNextTweet:\n",
      "                ifCheckNextTweet=False\n",
      "                dic['tweet']['created_at']\n",
      "            dic=cPickle.load(infiles[i])\n",
      "            if dic['tweet']['retweet_count']==0 and dic['time_difference_in_second']<600:\n",
      "                continue\n",
      "            cPickle.dump(dic, outfiles[i])\n",
      "            tn+=1\n",
      "        except EOFError:\n",
      "            break\n",
      "        except:\n",
      "#             print \"Unexpected error:\", sys.exc_info()[0]\n",
      "            ifCheckNextTweet=True\n",
      "            continue\n",
      "        \n",
      "for i in range(0,24):\n",
      "    infiles[i].close()\n",
      "for i in range(0,24):\n",
      "    outfiles[i].close()\n",
      "print 'Filter done!'\n",
      "print 'Result to',tn,'tweets'"
     ],
     "language": "python",
     "metadata": {},
     "outputs": [
      {
       "output_type": "stream",
       "stream": "stdout",
       "text": [
        "0 "
       ]
      },
      {
       "output_type": "stream",
       "stream": "stdout",
       "text": [
        "1 "
       ]
      },
      {
       "output_type": "stream",
       "stream": "stdout",
       "text": [
        "2 "
       ]
      },
      {
       "output_type": "stream",
       "stream": "stdout",
       "text": [
        "3 "
       ]
      },
      {
       "output_type": "stream",
       "stream": "stdout",
       "text": [
        "4 "
       ]
      },
      {
       "output_type": "stream",
       "stream": "stdout",
       "text": [
        "5 "
       ]
      },
      {
       "output_type": "stream",
       "stream": "stdout",
       "text": [
        "6 "
       ]
      },
      {
       "output_type": "stream",
       "stream": "stdout",
       "text": [
        "7 "
       ]
      },
      {
       "output_type": "stream",
       "stream": "stdout",
       "text": [
        "8 "
       ]
      },
      {
       "output_type": "stream",
       "stream": "stdout",
       "text": [
        "9 "
       ]
      },
      {
       "output_type": "stream",
       "stream": "stdout",
       "text": [
        "10 "
       ]
      },
      {
       "output_type": "stream",
       "stream": "stdout",
       "text": [
        "11 "
       ]
      },
      {
       "output_type": "stream",
       "stream": "stdout",
       "text": [
        "12 "
       ]
      },
      {
       "output_type": "stream",
       "stream": "stdout",
       "text": [
        "13 "
       ]
      },
      {
       "output_type": "stream",
       "stream": "stdout",
       "text": [
        "14 "
       ]
      },
      {
       "output_type": "stream",
       "stream": "stdout",
       "text": [
        "15 "
       ]
      },
      {
       "output_type": "stream",
       "stream": "stdout",
       "text": [
        "16 "
       ]
      },
      {
       "output_type": "stream",
       "stream": "stdout",
       "text": [
        "17 "
       ]
      },
      {
       "output_type": "stream",
       "stream": "stdout",
       "text": [
        "18 "
       ]
      },
      {
       "output_type": "stream",
       "stream": "stdout",
       "text": [
        "19 "
       ]
      },
      {
       "output_type": "stream",
       "stream": "stdout",
       "text": [
        "20 "
       ]
      },
      {
       "output_type": "stream",
       "stream": "stdout",
       "text": [
        "21 "
       ]
      },
      {
       "output_type": "stream",
       "stream": "stdout",
       "text": [
        "22 "
       ]
      },
      {
       "output_type": "stream",
       "stream": "stdout",
       "text": [
        "23 "
       ]
      },
      {
       "output_type": "stream",
       "stream": "stdout",
       "text": [
        "Filter done!\n",
        "Result to 465385 tweets\n"
       ]
      }
     ],
     "prompt_number": 4
    },
    {
     "cell_type": "code",
     "collapsed": false,
     "input": [
      "import ConfigParser\n",
      "import sys\n",
      "import time\n",
      "from datetime import datetime\n",
      "import matplotlib.pyplot as plt\n",
      "import networkx as nx\n",
      "import os\n",
      "import cPickle\n",
      "from collections import Counter\n",
      "\n",
      "infiles=[]\n",
      "tweetnums=[]\n",
      "path='data/'\n",
      "if not os.path.exists(path):\n",
      "    print path,'not exist! Program exit.'\n",
      "    exit()\n",
      "# for i in range(0,24):\n",
      "for i in range(0,1):\n",
      "    si=str(i)\n",
      "    if os.path.exists(path+si):\n",
      "        infile=open(path+si,'rb')\n",
      "    else:\n",
      "        print path+si,'not exist! Program exit.'\n",
      "        exit()\n",
      "    infiles.append(infile)\n",
      "    tweetnums.append(0)\n",
      "    \n",
      "RNCounter=Counter()\n",
      "zeroRNCounter=Counter()\n",
      "oneRNCounter=Counter()\n",
      "twoRNCounter=Counter()\n",
      "ifCheckNextTweet=False\n",
      "tn=0\n",
      "# for i in range(0,24):\n",
      "for i in range(0,1):\n",
      "    print i,\n",
      "    while True:\n",
      "        try:\n",
      "#             if tn==1000:\n",
      "#                 tn=0\n",
      "#                 break\n",
      "            dic=cPickle.load(infiles[i])\n",
      "            tn+=1\n",
      "            RNCounter.update([dic['tweet']['retweet_count']])\n",
      "            if dic['tweet']['retweet_count']==1:\n",
      "                oneRNCounter.update([dic['time_difference_in_second']])\n",
      "            if dic['tweet']['retweet_count']==2:\n",
      "                twoRNCounter.update([dic['time_difference_in_second']])\n",
      "            if ifCheckNextTweet:\n",
      "                ifCheckNextTweet=False\n",
      "                dic['tweet']['created_at']\n",
      "        except EOFError:\n",
      "            break\n",
      "        except:\n",
      "#             print \"Unexpected error:\", sys.exc_info()[0]\n",
      "            ifCheckNextTweet=True\n",
      "            continue\n",
      "\n",
      "print\n",
      "print tn,'tweets readed!'"
     ],
     "language": "python",
     "metadata": {},
     "outputs": [
      {
       "output_type": "stream",
       "stream": "stdout",
       "text": [
        "0\n"
       ]
      },
      {
       "output_type": "stream",
       "stream": "stdout",
       "text": [
        "165985 tweets readed!\n"
       ]
      }
     ],
     "prompt_number": 20
    },
    {
     "cell_type": "code",
     "collapsed": false,
     "input": [
      "import numpy as np\n",
      "import matplotlib.pyplot as plt\n",
      "RNCounter\n",
      "zeroRNCounter\n",
      "oneRNCounter\n",
      "twoRNCounter\n",
      "\n",
      "labels, values = zip(*[(a,b) for a,b in RNCounter.items() if a<100])\n",
      "labels=list(labels)\n",
      "values=list(values)\n",
      "plt.figure()\n",
      "plt.xlabel('retweets')\n",
      "plt.ylabel('num')\n",
      "plt.scatter(labels,values)\n",
      "plt.show()\n",
      "\n",
      "# # labels, values = zip(*zeroRNCounter.items())\n",
      "# labels, values = zip(*[(a,b) for a,b in zeroRNCounter.items() if a<500])\n",
      "# labels=list(labels)\n",
      "# values=list(values)\n",
      "# plt.figure()\n",
      "# plt.xlabel('times')\n",
      "# plt.ylabel('num')\n",
      "# plt.scatter(labels,values)\n",
      "# plt.hist\n",
      "# plt.show()\n",
      "\n",
      "# labels, values = zip(*oneRNCounter.items())\n",
      "labels, values = zip(*[(a,b) for a,b in oneRNCounter.items() if a<500])\n",
      "labels=list(labels)\n",
      "values=list(values)\n",
      "plt.figure()\n",
      "plt.xlabel('times')\n",
      "plt.ylabel('num')\n",
      "plt.scatter(labels,values)\n",
      "plt.show()\n",
      "\n",
      "# labels, values = zip(*twoRNCounter.items())\n",
      "labels, values = zip(*[(a,b) for a,b in twoRNCounter.items() if a<500])\n",
      "labels=list(labels)\n",
      "values=list(values)\n",
      "plt.figure()\n",
      "plt.scatter(labels,values)\n",
      "plt.show()\n",
      "\n"
     ],
     "language": "python",
     "metadata": {},
     "outputs": [
      {
       "metadata": {},
       "output_type": "display_data",
       "png": "[encoded data removed]",
       "text": [
        "<matplotlib.figure.Figure at 0x10a765f50>"
       ]
      },
      {
       "metadata": {},
       "output_type": "display_data",
       "png": "[encoded data removed]",
       "text": [
        "<matplotlib.figure.Figure at 0x10a64dc10>"
       ]
      },
      {
       "metadata": {},
       "output_type": "display_data",
       "png": "[encoded data removed]",
       "text": [
        "<matplotlib.figure.Figure at 0x10a6ef510>"
       ]
      }
     ],
     "prompt_number": 25
    },
    {
     "cell_type": "code",
     "collapsed": false,
     "input": [
      "import ConfigParser\n",
      "import sys\n",
      "import time\n",
      "from datetime import datetime\n",
      "import matplotlib.pyplot as plt\n",
      "import networkx as nx\n",
      "import os\n",
      "import cPickle\n",
      "from collections import Counter\n",
      "\n",
      "infiles=[]\n",
      "tweetnums=[]\n",
      "path='rest_data/'\n",
      "if not os.path.exists(path):\n",
      "    print path,'not exist! Program exit.'\n",
      "    exit()\n",
      "# for i in range(0,24):\n",
      "for i in range(0,1):\n",
      "    si=str(i)\n",
      "    if os.path.exists(path+si):\n",
      "        infile=open(path+si,'rb')\n",
      "    else:\n",
      "        print path+si,'not exist! Program exit.'\n",
      "        exit()\n",
      "    infiles.append(infile)\n",
      "    tweetnums.append(0)\n",
      "    \n",
      "restRNCounter=Counter()\n",
      "restzeroRNCounter=Counter()\n",
      "restoneRNCounter=Counter()\n",
      "resttwoRNCounter=Counter()\n",
      "ifCheckNextTweet=False\n",
      "tn=0\n",
      "# for i in range(0,24):\n",
      "for i in range(0,1):\n",
      "    print i,\n",
      "    while True:\n",
      "        try:\n",
      "#             if tn==1000:\n",
      "#                 tn=0\n",
      "#                 break\n",
      "            dic=cPickle.load(infiles[i])\n",
      "            tn+=1\n",
      "            restRNCounter.update([dic['tweet']['retweet_count']])\n",
      "            if dic['tweet']['retweet_count']==0:\n",
      "                restzeroRNCounter.update([dic['time_difference_in_second']])\n",
      "            if dic['tweet']['retweet_count']==1:\n",
      "                restoneRNCounter.update([dic['time_difference_in_second']])\n",
      "            if dic['tweet']['retweet_count']==2:\n",
      "                resttwoRNCounter.update([dic['time_difference_in_second']])\n",
      "            if ifCheckNextTweet:\n",
      "                ifCheckNextTweet=False\n",
      "                dic['tweet']['created_at']\n",
      "        except EOFError:\n",
      "            break\n",
      "        except:\n",
      "#             print \"Unexpected error:\", sys.exc_info()[0]\n",
      "            ifCheckNextTweet=True\n",
      "            continue\n",
      "\n",
      "print\n",
      "print tn,'tweets readed!'"
     ],
     "language": "python",
     "metadata": {},
     "outputs": [
      {
       "output_type": "stream",
       "stream": "stdout",
       "text": [
        "0\n"
       ]
      },
      {
       "output_type": "stream",
       "stream": "stdout",
       "text": [
        "38911 tweets readed!\n"
       ]
      }
     ],
     "prompt_number": 28
    },
    {
     "cell_type": "code",
     "collapsed": false,
     "input": [
      "import numpy as np\n",
      "import matplotlib.pyplot as plt\n",
      "RNCounter\n",
      "zeroRNCounter\n",
      "oneRNCounter\n",
      "twoRNCounter\n",
      "\n",
      "labels, values = zip(*[(a,b) for a,b in restRNCounter.items() if a<100])\n",
      "labels=list(labels)\n",
      "values=list(values)\n",
      "plt.figure()\n",
      "plt.xlabel('retweets')\n",
      "plt.ylabel('num')\n",
      "plt.scatter(labels,values)\n",
      "plt.show()\n",
      "\n",
      "# labels, values = zip(*zeroRNCounter.items())\n",
      "labels, values = zip(*[(a,b) for a,b in restzeroRNCounter.items()])\n",
      "labels=list(labels)\n",
      "values=list(values)\n",
      "plt.figure()\n",
      "plt.xlabel('times')\n",
      "plt.ylabel('num')\n",
      "plt.scatter(labels,values)\n",
      "plt.hist\n",
      "plt.show()\n",
      "\n",
      "# labels, values = zip(*oneRNCounter.items())\n",
      "labels, values = zip(*[(a,b) for a,b in restoneRNCounter.items()])\n",
      "labels=list(labels)\n",
      "values=list(values)\n",
      "plt.figure()\n",
      "plt.xlabel('times')\n",
      "plt.ylabel('num')\n",
      "plt.scatter(labels,values)\n",
      "plt.show()\n",
      "\n",
      "# labels, values = zip(*twoRNCounter.items())\n",
      "labels, values = zip(*[(a,b) for a,b in resttwoRNCounter.items()])\n",
      "labels=list(labels)\n",
      "values=list(values)\n",
      "plt.figure()\n",
      "plt.scatter(labels,values)\n",
      "plt.show()\n",
      "\n",
      "\n"
     ],
     "language": "python",
     "metadata": {},
     "outputs": [
      {
       "metadata": {},
       "output_type": "display_data",
       "png": "[encoded data removed]",
       "text": [
        "<matplotlib.figure.Figure at 0x10a72a410>"
       ]
      },
      {
       "metadata": {},
       "output_type": "display_data",
       "png": "[encoded data removed]",
       "text": [
        "<matplotlib.figure.Figure at 0x10a6fd050>"
       ]
      },
      {
       "metadata": {},
       "output_type": "display_data",
       "png": "[encoded data removed]",
       "text": [
        "<matplotlib.figure.Figure at 0x10a775a10>"
       ]
      },
      {
       "metadata": {},
       "output_type": "display_data",
       "png": "[encoded data removed]",
       "text": [
        "<matplotlib.figure.Figure at 0x10a645310>"
       ]
      }
     ],
     "prompt_number": 39
    },
    {
     "cell_type": "code",
     "collapsed": false,
     "input": [
      "import ConfigParser\n",
      "import sys\n",
      "import time\n",
      "from datetime import datetime\n",
      "import matplotlib.pyplot as plt\n",
      "import networkx as nx\n",
      "import os\n",
      "import cPickle\n",
      "from collections import Counter\n",
      "\n",
      "infiles=[]\n",
      "path='data/'\n",
      "if not os.path.exists(path):\n",
      "    print path,'not exist! Program exit.'\n",
      "    exit()\n",
      "for i in range(0,24):\n",
      "    si=str(i)\n",
      "    if os.path.exists(path+si):\n",
      "        infile=open(path+si,'rb')\n",
      "    else:\n",
      "        print path+si,'not exist! Program exit.'\n",
      "        exit()\n",
      "    infiles.append(infile)\n",
      "\n",
      "tn=0\n",
      "tweetlst=[]\n",
      "while True:\n",
      "    try:\n",
      "        if tn==10000:\n",
      "            break\n",
      "        dic=cPickle.load(infiles[0])\n",
      "        RNCounter.update([dic['tweet']['retweet_count']])\n",
      "        tweetlst.append(dic)\n",
      "        if ifCheckNextTweet:\n",
      "            ifCheckNextTweet=False\n",
      "            dic['tweet']['created_at']\n",
      "        tn+=1\n",
      "    except EOFError:\n",
      "        break\n",
      "    except:\n",
      "#         print \"Unexpected error:\", sys.exc_info()[0]\n",
      "        ifCheckNextTweet=True\n",
      "        continue\n",
      "\n",
      "print len(tweetlst),'tweets readed'"
     ],
     "language": "python",
     "metadata": {},
     "outputs": [
      {
       "output_type": "stream",
       "stream": "stdout",
       "text": [
        "10000\n"
       ]
      }
     ],
     "prompt_number": 6
    },
    {
     "cell_type": "code",
     "collapsed": false,
     "input": [
      "from scipy.sparse import lil_matrix\n",
      "# num of follows\n",
      "# num of followings\n",
      "# ratio of follows/followings\n",
      "# if has hashtag\n",
      "# num of hashtag\n",
      "# if has mention\n",
      "# num of mention\n",
      "# if has images\n",
      "# num of images\n",
      "# if has videos\n",
      "# num of videos\n",
      "# if has http\n",
      "# num of http\n",
      "# if has location info\n",
      "# time passed\n",
      "# num of status (user)\n",
      "# if default_profile (user)\n",
      "# if default_profile_image (user)\n",
      "# num of favourites_count (user)\n",
      "# if follow_request_sent (user)\n",
      "# if following (user)\n",
      "# if protected (user)\n",
      "# if is autho user (verified)\n",
      "\n",
      "# ** filter by language first \n",
      "def make_feature_matrix(tweetlst):\n",
      "    X = lil_matrix((len(tweetlst), 10))\n",
      "    for i, tokens in enumerate(tokens_list):\n",
      "        for token in tokens:\n",
      "            j = vocabulary[token]\n",
      "            X[i,j] += 1\n",
      "    return X.tocsr()\n"
     ],
     "language": "python",
     "metadata": {},
     "outputs": [],
     "prompt_number": 4
    },
    {
     "cell_type": "code",
     "collapsed": false,
     "input": [],
     "language": "python",
     "metadata": {},
     "outputs": []
    }
   ],
   "metadata": {}
  }
 ]
}