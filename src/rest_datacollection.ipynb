{
 "metadata": {
  "name": "",
  "signature": "sha256:b8aa7b329234d116b1acd90cf7dcf8f64a8997b36090a09bd51f2252f0b90f8e"
 },
 "nbformat": 3,
 "nbformat_minor": 0,
 "worksheets": [
  {
   "cells": [
    {
     "cell_type": "markdown",
     "metadata": {},
     "source": [
      "# CS579: Assignment 1\n",
      "## Collecting a political social network\n",
      "\n",
      "In this assignment, I've given you a list of Twitter accounts of 10 U.S. Senators. \n",
      "The goal is to use the Twitter API to construct the follower network of these accounts. We will then use the [networkx](http://networkx.github.io/) library to plot these links, as well as print some statistics of the resulting graph.\n",
      "\n",
      "1. Copy the files from this directory into the `asg/a1` folder of your private repository.\n",
      "2. Create an account on [twitter.com](http://twitter.com).\n",
      "3. Generate authentication tokens by following the instructions [here](https://dev.twitter.com/docs/auth/tokens-devtwittercom).\n",
      "4. Add your tokens to the `twitter.cfg` file. (API Key == Consumer Key)\n",
      "5. Be sure you've installed the Python modules [networkx](http://networkx.github.io/) and [TwitterAPI](https://github.com/geduldig/TwitterAPI). Assuming you've already installed [pip](http://pip.readthedocs.org/en/latest/installing.html), you can do this with `pip install networkx TwitterAPI`.\n",
      "\n",
      "OK, now you're ready to start collecting some data!\n",
      "\n",
      "I've provided a partial implementation below. Your job is to complete the code where indicated.\n",
      "Your output should match the samples provided below."
     ]
    },
    {
     "cell_type": "code",
     "collapsed": false,
     "input": [
      "import ConfigParser\n",
      "import sys\n",
      "import time\n",
      "from datetime import datetime\n",
      "import cPickle\n",
      "import os.path\n",
      "import random\n",
      "\n",
      "import matplotlib.pyplot as plt\n",
      "import networkx as nx\n",
      "from TwitterAPI import TwitterAPI\n",
      "\n",
      "# This method is done for you.\n",
      "def get_twitter(config_file):\n",
      "    \"\"\" Read the config_file and construct an instance of TwitterAPI.\n",
      "    Args:\n",
      "      config_file ... A config file in ConfigParser format with Twitter credentials\n",
      "    Returns:\n",
      "      An instance of TwitterAPI.\n",
      "    \"\"\"\n",
      "    config = ConfigParser.ConfigParser()\n",
      "    config.read(config_file)\n",
      "    twitter = TwitterAPI(\n",
      "                   config.get('twitter', 'consumer_key'),\n",
      "                   config.get('twitter', 'consumer_secret'),\n",
      "                   config.get('twitter', 'access_token'),\n",
      "                   config.get('twitter', 'access_token_secret'))\n",
      "    return twitter\n",
      "\n",
      "twitter = get_twitter('weodne.cfg')\n",
      "print 'Established Twitter connection.'"
     ],
     "language": "python",
     "metadata": {},
     "outputs": [
      {
       "output_type": "stream",
       "stream": "stdout",
       "text": [
        "Established Twitter connection.\n"
       ]
      }
     ],
     "prompt_number": 1
    },
    {
     "cell_type": "code",
     "collapsed": false,
     "input": [
      "print datetime.utcnow()\n",
      "rs=twitter.request('statuses/user_timeline',{'screen_name':'Clive Tu'})\n",
      "for r in rs:\n",
      "#     while 'retweeted_status' in r:\n",
      "#         r=r['retweeted_status']\n",
      "    print r['id']\n",
      "    while 'retweeted_status' in r:\n",
      "        r=r['retweeted_status']\n",
      "        print r['id']\n",
      "    print '====='\n",
      "for r in rs:\n",
      "    print r\n",
      "# for r in twitter.request('statuses/sample'):\n",
      "#     if 'created_at' in r:\n",
      "#         t=r['created_at']\n",
      "#         print t"
     ],
     "language": "python",
     "metadata": {},
     "outputs": [
      {
       "output_type": "stream",
       "stream": "stdout",
       "text": [
        "2014-11-27 23:55:34.382707\n",
        "536319263020449792"
       ]
      },
      {
       "output_type": "stream",
       "stream": "stdout",
       "text": [
        "\n",
        "536318705110888448\n",
        "=====\n",
        "{u'contributors': None, u'truncated': False, u'text': u'RT @cnnbrk: Buffalo, N.Y., area under flood warning as up to 7 feet of snow begins to melt. http://t.co/e19PPhC7tb http://t.co/mZVWROYOCF', u'in_reply_to_status_id': None, u'id': 536319263020449792, u'favorite_count': 0, u'source': u'<a href=\"http://twitter.com\" rel=\"nofollow\">Twitter Web Client</a>', u'retweeted': True, u'coordinates': None, u'entities': {u'symbols': [], u'user_mentions': [{u'id': 428333, u'indices': [3, 10], u'id_str': u'428333', u'screen_name': u'cnnbrk', u'name': u'CNN Breaking News'}], u'hashtags': [], u'urls': [{u'url': u'http://t.co/e19PPhC7tb', u'indices': [92, 114], u'expanded_url': u'http://cnn.it/11ImESf', u'display_url': u'cnn.it/11ImESf'}], u'media': [{u'source_status_id_str': u'536318705110888448', u'expanded_url': u'http://twitter.com/cnnbrk/status/536318705110888448/photo/1', u'display_url': u'pic.twitter.com/mZVWROYOCF', u'url': u'http://t.co/mZVWROYOCF', u'media_url_https': u'https://pbs.twimg.com/media/B3FjBT2IUAAwXYI.jpg', u'source_status_id': 536318705110888448, u'id_str': u'536318704792129536', u'sizes': {u'small': {u'h': 191, u'resize': u'fit', u'w': 340}, u'large': {u'h': 360, u'resize': u'fit', u'w': 640}, u'medium': {u'h': 337, u'resize': u'fit', u'w': 600}, u'thumb': {u'h': 150, u'resize': u'crop', u'w': 150}}, u'indices': [115, 137], u'type': u'photo', u'id': 536318704792129536, u'media_url': u'http://pbs.twimg.com/media/B3FjBT2IUAAwXYI.jpg'}]}, u'in_reply_to_screen_name': None, u'id_str': u'536319263020449792', u'retweet_count': 4444, u'in_reply_to_user_id': None, u'favorited': False, u'retweeted_status': {u'contributors': None, u'truncated': False, u'text': u'Buffalo, N.Y., area under flood warning as up to 7 feet of snow begins to melt. http://t.co/e19PPhC7tb http://t.co/mZVWROYOCF', u'in_reply_to_status_id': None, u'id': 536318705110888448, u'favorite_count': 3787, u'source': u'<a href=\"http://twitter.com\" rel=\"nofollow\">Twitter Web Client</a>', u'retweeted': True, u'coordinates': None, u'entities': {u'symbols': [], u'user_mentions': [], u'hashtags': [], u'urls': [{u'url': u'http://t.co/e19PPhC7tb', u'indices': [80, 102], u'expanded_url': u'http://cnn.it/11ImESf', u'display_url': u'cnn.it/11ImESf'}], u'media': [{u'expanded_url': u'http://twitter.com/cnnbrk/status/536318705110888448/photo/1', u'display_url': u'pic.twitter.com/mZVWROYOCF', u'url': u'http://t.co/mZVWROYOCF', u'media_url_https': u'https://pbs.twimg.com/media/B3FjBT2IUAAwXYI.jpg', u'id_str': u'536318704792129536', u'sizes': {u'small': {u'h': 191, u'resize': u'fit', u'w': 340}, u'large': {u'h': 360, u'resize': u'fit', u'w': 640}, u'medium': {u'h': 337, u'resize': u'fit', u'w': 600}, u'thumb': {u'h': 150, u'resize': u'crop', u'w': 150}}, u'indices': [103, 125], u'type': u'photo', u'id': 536318704792129536, u'media_url': u'http://pbs.twimg.com/media/B3FjBT2IUAAwXYI.jpg'}]}, u'in_reply_to_screen_name': None, u'id_str': u'536318705110888448', u'retweet_count': 4444, u'in_reply_to_user_id': None, u'favorited': False, u'user': {u'follow_request_sent': False, u'profile_use_background_image': True, u'profile_text_color': u'000000', u'default_profile_image': False, u'id': 428333, u'profile_background_image_url_https': u'https://pbs.twimg.com/profile_background_images/17349501/CNN_Twitter_Background_05.2009.GIF', u'verified': True, u'profile_location': None, u'profile_image_url_https': u'https://pbs.twimg.com/profile_images/1762504301/128x128_cnnbrk_avatar_normal.gif', u'profile_sidebar_fill_color': u'EEEEEE', u'entities': {u'url': {u'urls': [{u'url': u'http://t.co/HjKR4r61U5', u'indices': [0, 22], u'expanded_url': u'http://cnn.com/', u'display_url': u'cnn.com'}]}, u'description': {u'urls': []}}, u'followers_count': 21145165, u'profile_sidebar_border_color': u'DADADA', u'id_str': u'428333', u'profile_background_color': u'323232', u'listed_count': 159782, u'is_translation_enabled': True, u'utc_offset': -18000, u'statuses_count': 36308, u'description': u'Breaking news from reporters and editors on the CNN Digital news team. Now 21M strong. Check @cnn for all things CNN, breaking and more.', u'friends_count': 109, u'location': u'Everywhere', u'profile_link_color': u'004287', u'profile_image_url': u'http://pbs.twimg.com/profile_images/1762504301/128x128_cnnbrk_avatar_normal.gif', u'following': True, u'geo_enabled': False, u'profile_background_image_url': u'http://pbs.twimg.com/profile_background_images/17349501/CNN_Twitter_Background_05.2009.GIF', u'name': u'CNN Breaking News', u'lang': u'en', u'profile_background_tile': False, u'favourites_count': 13, u'screen_name': u'cnnbrk', u'notifications': False, u'url': u'http://t.co/HjKR4r61U5', u'created_at': u'Tue Jan 02 01:48:14 +0000 2007', u'contributors_enabled': False, u'time_zone': u'Eastern Time (US & Canada)', u'protected': False, u'default_profile': False, u'is_translator': False}, u'geo': None, u'in_reply_to_user_id_str': None, u'possibly_sensitive': False, u'lang': u'en', u'created_at': u'Sun Nov 23 00:41:58 +0000 2014', u'in_reply_to_status_id_str': None, u'place': None, u'extended_entities': {u'media': [{u'expanded_url': u'http://twitter.com/cnnbrk/status/536318705110888448/photo/1', u'display_url': u'pic.twitter.com/mZVWROYOCF', u'url': u'http://t.co/mZVWROYOCF', u'media_url_https': u'https://pbs.twimg.com/media/B3FjBT2IUAAwXYI.jpg', u'id_str': u'536318704792129536', u'sizes': {u'small': {u'h': 191, u'resize': u'fit', u'w': 340}, u'large': {u'h': 360, u'resize': u'fit', u'w': 640}, u'medium': {u'h': 337, u'resize': u'fit', u'w': 600}, u'thumb': {u'h': 150, u'resize': u'crop', u'w': 150}}, u'indices': [103, 125], u'type': u'photo', u'id': 536318704792129536, u'media_url': u'http://pbs.twimg.com/media/B3FjBT2IUAAwXYI.jpg'}]}}, u'user': {u'follow_request_sent': False, u'profile_use_background_image': True, u'profile_text_color': u'333333', u'default_profile_image': True, u'id': 2888288074, u'profile_background_image_url_https': u'https://abs.twimg.com/images/themes/theme1/bg.png', u'verified': False, u'profile_location': None, u'profile_image_url_https': u'https://abs.twimg.com/sticky/default_profile_images/default_profile_0_normal.png', u'profile_sidebar_fill_color': u'DDEEF6', u'entities': {u'description': {u'urls': []}}, u'followers_count': 2, u'profile_sidebar_border_color': u'C0DEED', u'id_str': u'2888288074', u'profile_background_color': u'C0DEED', u'listed_count': 0, u'is_translation_enabled': False, u'utc_offset': None, u'statuses_count': 1, u'description': u'', u'friends_count': 41, u'location': u'', u'profile_link_color': u'0084B4', u'profile_image_url': u'http://abs.twimg.com/sticky/default_profile_images/default_profile_0_normal.png', u'following': False, u'geo_enabled': False, u'profile_background_image_url': u'http://abs.twimg.com/images/themes/theme1/bg.png', u'name': u'W', u'lang': u'en', u'profile_background_tile': False, u'favourites_count': 0, u'screen_name': u'weodne', u'notifications': False, u'url': None, u'created_at': u'Sat Nov 22 20:23:46 +0000 2014', u'contributors_enabled': False, u'time_zone': None, u'protected': False, u'default_profile': True, u'is_translator': False}, u'geo': None, u'in_reply_to_user_id_str': None, u'possibly_sensitive': False, u'lang': u'en', u'created_at': u'Sun Nov 23 00:44:11 +0000 2014', u'in_reply_to_status_id_str': None, u'place': None, u'extended_entities': {u'media': [{u'source_status_id_str': u'536318705110888448', u'expanded_url': u'http://twitter.com/cnnbrk/status/536318705110888448/photo/1', u'display_url': u'pic.twitter.com/mZVWROYOCF', u'url': u'http://t.co/mZVWROYOCF', u'media_url_https': u'https://pbs.twimg.com/media/B3FjBT2IUAAwXYI.jpg', u'source_status_id': 536318705110888448, u'id_str': u'536318704792129536', u'sizes': {u'small': {u'h': 191, u'resize': u'fit', u'w': 340}, u'large': {u'h': 360, u'resize': u'fit', u'w': 640}, u'medium': {u'h': 337, u'resize': u'fit', u'w': 600}, u'thumb': {u'h': 150, u'resize': u'crop', u'w': 150}}, u'indices': [115, 137], u'type': u'photo', u'id': 536318704792129536, u'media_url': u'http://pbs.twimg.com/media/B3FjBT2IUAAwXYI.jpg'}]}}\n"
       ]
      }
     ],
     "prompt_number": 2
    },
    {
     "cell_type": "code",
     "collapsed": false,
     "input": [
      "a=time.mktime(datetime.utcnow().timetuple())\n",
      "b=time.mktime(datetime.utcnow().timetuple())\n",
      "c=['asdf',2,3]\n",
      "if not 'asd' in c:\n",
      "    print 'asdfasdf'"
     ],
     "language": "python",
     "metadata": {},
     "outputs": [
      {
       "output_type": "stream",
       "stream": "stdout",
       "text": [
        "asdfasdf\n"
       ]
      }
     ],
     "prompt_number": 4
    },
    {
     "cell_type": "code",
     "collapsed": false,
     "input": [
      "def readUFromFile(userfilepath):\n",
      "    ifCheckNextTweet=False\n",
      "    uids=[]\n",
      "    users=[]\n",
      "    if not os.path.exists(userfilepath):\n",
      "        return uids,users\n",
      "    userfile=open(userfilepath,'rb')\n",
      "    while True:\n",
      "        try:\n",
      "            if ifCheckNextTweet:\n",
      "                ifCheckNextTweet=False\n",
      "            u=cPickle.load(userfile)\n",
      "            uids.append(u['id'])\n",
      "            users.append(u)\n",
      "        except EOFError:\n",
      "            break\n",
      "        except:\n",
      "            print \"Unexpected error:\", sys.exc_info()[0]\n",
      "            ifCheckNextTweet=True\n",
      "            continue\n",
      "    userfile.close()\n",
      "    return uids,users"
     ],
     "language": "python",
     "metadata": {},
     "outputs": [],
     "prompt_number": 5
    },
    {
     "cell_type": "code",
     "collapsed": false,
     "input": [
      "\n",
      "outfiles=[]\n",
      "tweetnums=[]\n",
      "path='rest_data/'\n",
      "if not os.path.exists(path):\n",
      "    os.makedirs(path)\n",
      "for i in range(0,24):\n",
      "    si=str(i)\n",
      "    if os.path.exists(path+si):\n",
      "        outfile=open(path+si,'ab')\n",
      "    else:\n",
      "        outfile=open(path+si,'wb')\n",
      "    outfiles.append(outfile)\n",
      "    tweetnums.append(0)\n",
      "    \n",
      "usersfilename='users'\n",
      "usersfile=1\n",
      "uids,users=readUFromFile(path+usersfilename)\n",
      "print 'read',len(uids),'uids from user_file'\n",
      "print 'read',len(users),'users from user_file'\n",
      "if os.path.exists(path+usersfilename):\n",
      "    usersfile=open(path+usersfilename,'ab')\n",
      "else:\n",
      "    usersfile=open(path+usersfilename,'wb')\n",
      "    \n",
      "def getU(twitter,maxUserNum):\n",
      "    i=0\n",
      "    u=0\n",
      "    users=[]\n",
      "    while True:\n",
      "        try:\n",
      "            for r in twitter.request('statuses/sample',{'language':'en'}):\n",
      "                if not 'user' in r:\n",
      "                    continue\n",
      "                if i%30!=0:\n",
      "                    continue\n",
      "                users.append(r['user'])\n",
      "#                 while 'retweeted_status' in r:\n",
      "#                     r=r['retweeted_status']\n",
      "#                     if 'retweeted_status' in r:\n",
      "#                         continue\n",
      "#                     users.append(r['user'])\n",
      "                u+=1\n",
      "                if u>=maxUserNum:\n",
      "                    return users\n",
      "        except:\n",
      "            print \"Unexpected error:\", sys.exc_info()[0]\n",
      "            "
     ],
     "language": "python",
     "metadata": {},
     "outputs": [
      {
       "output_type": "stream",
       "stream": "stdout",
       "text": [
        "read 2429 uids from user_file\n",
        "read 2429 users from user_file\n"
       ]
      }
     ],
     "prompt_number": 6
    },
    {
     "cell_type": "code",
     "collapsed": false,
     "input": [
      "def robust_request(twitter, resource, params, max_tries=5):\n",
      "    for i in range(max_tries):\n",
      "        request = twitter.request(resource, params)\n",
      "        if request.status_code == 200:\n",
      "            return request\n",
      "        else:\n",
      "            print >> sys.stderr, 'Got error:', request.text, '\\nsleeping for 15 minutes.'\n",
      "            sys.stderr.flush()\n",
      "            time.sleep(60 * 15)\n",
      "            \n",
      "def readUserTimeLine(twitter,newu,usersfile,outfiles,tweetnums,maxReadNum=600,maxPageNum=10,maxTime=11289600,lang='en'):\n",
      "    tdiff=0\n",
      "    max_id=-1\n",
      "    readNum=0\n",
      "    pageNum=0\n",
      "    cPickle.dump(newu, usersfile)\n",
      "    usersfile.flush()\n",
      "    while True:\n",
      "        tn=datetime.utcnow().timetuple()\n",
      "        rs=[]\n",
      "        if max_id==-1:\n",
      "            rs=robust_request(twitter,'statuses/user_timeline',{'user_id':newu['id'],'count':200})\n",
      "        else:\n",
      "            rs=robust_request(twitter,'statuses/user_timeline',{'user_id':newu['id'],'count':200,'max_id':max_id})\n",
      "        n=0\n",
      "        for r in rs:\n",
      "            n+=1\n",
      "            max_id=r['id']-1\n",
      "            if 'retweeted_status' in r:\n",
      "                continue\n",
      "            if not 'lang' in r:\n",
      "                continue\n",
      "            if r['lang']!=lang:\n",
      "                continue\n",
      "            t=r['created_at']\n",
      "            ts=time.strptime(t,'%a %b %d %H:%M:%S +0000 %Y')\n",
      "            tdis=time.mktime(tn)-time.mktime(ts)\n",
      "            dic={'tweet':r, 'create_struct_time':ts, 'now_struct_time':tn, 'time_difference_in_second':tdis}\n",
      "            cPickle.dump(dic, outfiles[ts.tm_hour])\n",
      "            tweetnums[ts.tm_hour]=tweetnums[ts.tm_hour]+1\n",
      "            if tweetnums[ts.tm_hour]==10:\n",
      "                outfiles[ts.tm_hour].flush()\n",
      "                tweetnums[ts.tm_hour]=0\n",
      "            if tdiff<tdis:\n",
      "                tdiff=tdis\n",
      "            readNum+=1\n",
      "            if readNum>=maxReadNum:\n",
      "                return readNum\n",
      "        pageNum+=1\n",
      "        if n!=200 or pageNum>=maxPageNum or tdiff>=maxTime: #two weeks\n",
      "            break\n",
      "    return readNum"
     ],
     "language": "python",
     "metadata": {},
     "outputs": [],
     "prompt_number": 6
    },
    {
     "cell_type": "code",
     "collapsed": false,
     "input": [
      "totalreadnum=0\n",
      "# rs=robust_request(twitter,'statuses/home_timeline',{'count':200})\n",
      "# newauthus=[]\n",
      "# for r in rs:\n",
      "#     if r['user']['id'] in uids:\n",
      "#         continue\n",
      "#     uids.append(r['user']['id'])\n",
      "#     users.append(r['user'])\n",
      "#     newauthus.append(r['user'])\n",
      "# for u in newauthus:\n",
      "#     readnum=readUserTimeLine(twitter,u,usersfile,outfiles,tweetnums,maxReadNum=1000)\n",
      "#     totalreadnum+=readnum\n",
      "#     print 'readnum:',readnum,'\\ttotalreadnum:',totalreadnum\n",
      "\n",
      "while True:\n",
      "    us=getU(twitter,360);\n",
      "    newus=[]\n",
      "    for u in us:\n",
      "        if u['id'] in uids:\n",
      "            continue\n",
      "        uids.append(u['id'])\n",
      "        users.append(u)\n",
      "        newus.append(u)\n",
      "    for newu in newus:\n",
      "        readnum=readUserTimeLine(twitter,newu,usersfile,outfiles,tweetnums)\n",
      "        totalreadnum+=readnum\n",
      "        print 'readnum:',readnum,'\\ttotalreadnum:',totalreadnum\n",
      "    "
     ],
     "language": "python",
     "metadata": {},
     "outputs": []
    },
    {
     "cell_type": "code",
     "collapsed": false,
     "input": [],
     "language": "python",
     "metadata": {},
     "outputs": []
    }
   ],
   "metadata": {}
  }
 ]
}