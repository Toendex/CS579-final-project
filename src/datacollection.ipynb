{
 "metadata": {
  "name": "",
  "signature": "sha256:4db3c688fe8faffec0fee5e455100f629c682fe00171b2c29fa094e9f039cafd"
 },
 "nbformat": 3,
 "nbformat_minor": 0,
 "worksheets": [
  {
   "cells": [
    {
     "cell_type": "markdown",
     "metadata": {},
     "source": [
      "# CS579: Assignment 1\n",
      "## Collecting a political social network\n",
      "\n",
      "In this assignment, I've given you a list of Twitter accounts of 10 U.S. Senators. \n",
      "The goal is to use the Twitter API to construct the follower network of these accounts. We will then use the [networkx](http://networkx.github.io/) library to plot these links, as well as print some statistics of the resulting graph.\n",
      "\n",
      "1. Copy the files from this directory into the `asg/a1` folder of your private repository.\n",
      "2. Create an account on [twitter.com](http://twitter.com).\n",
      "3. Generate authentication tokens by following the instructions [here](https://dev.twitter.com/docs/auth/tokens-devtwittercom).\n",
      "4. Add your tokens to the `twitter.cfg` file. (API Key == Consumer Key)\n",
      "5. Be sure you've installed the Python modules [networkx](http://networkx.github.io/) and [TwitterAPI](https://github.com/geduldig/TwitterAPI). Assuming you've already installed [pip](http://pip.readthedocs.org/en/latest/installing.html), you can do this with `pip install networkx TwitterAPI`.\n",
      "\n",
      "OK, now you're ready to start collecting some data!\n",
      "\n",
      "I've provided a partial implementation below. Your job is to complete the code where indicated.\n",
      "Your output should match the samples provided below."
     ]
    },
    {
     "cell_type": "code",
     "collapsed": false,
     "input": [
      "import ConfigParser\n",
      "import sys\n",
      "import time\n",
      "\n",
      "import matplotlib.pyplot as plt\n",
      "import networkx as nx\n",
      "from TwitterAPI import TwitterAPI\n",
      "\n",
      "# This method is done for you.\n",
      "def get_twitter(config_file):\n",
      "    \"\"\" Read the config_file and construct an instance of TwitterAPI.\n",
      "    Args:\n",
      "      config_file ... A config file in ConfigParser format with Twitter credentials\n",
      "    Returns:\n",
      "      An instance of TwitterAPI.\n",
      "    \"\"\"\n",
      "    config = ConfigParser.ConfigParser()\n",
      "    config.read(config_file)\n",
      "    twitter = TwitterAPI(\n",
      "                   config.get('twitter', 'consumer_key'),\n",
      "                   config.get('twitter', 'consumer_secret'),\n",
      "                   config.get('twitter', 'access_token'),\n",
      "                   config.get('twitter', 'access_token_secret'))\n",
      "    return twitter\n",
      "\n",
      "twitter = get_twitter('twitter.cfg')\n",
      "print 'Established Twitter connection.'"
     ],
     "language": "python",
     "metadata": {},
     "outputs": [
      {
       "output_type": "stream",
       "stream": "stdout",
       "text": [
        "Established Twitter connection.\n"
       ]
      }
     ],
     "prompt_number": 1
    },
    {
     "cell_type": "code",
     "collapsed": false,
     "input": [
      "import time\n",
      "from datetime import datetime\n",
      "print datetime.utcnow()\n",
      "# rs=twitter.request('statuses/user_timeline',{'screen_name':'Clive Tu'})\n",
      "# for r in rs:\n",
      "#     while 'retweeted_status' in r:\n",
      "#         r=r['retweeted_status']\n",
      "# for r in twitter.request('statuses/sample'):\n",
      "#     if 'created_at' in r:\n",
      "#         t=r['created_at']\n",
      "#         print t"
     ],
     "language": "python",
     "metadata": {},
     "outputs": [
      {
       "output_type": "stream",
       "stream": "stdout",
       "text": [
        "2014-11-18 03:07:56.392844\n"
       ]
      }
     ],
     "prompt_number": 2
    },
    {
     "cell_type": "code",
     "collapsed": false,
     "input": [
      "a=time.mktime(datetime.utcnow().timetuple())\n",
      "b=time.mktime(datetime.utcnow().timetuple())"
     ],
     "language": "python",
     "metadata": {},
     "outputs": [],
     "prompt_number": 3
    },
    {
     "cell_type": "code",
     "collapsed": false,
     "input": [
      "import time\n",
      "from datetime import datetime\n",
      "import cPickle\n",
      "import os.path\n",
      "import random\n",
      "\n",
      "outfiles=[]\n",
      "tweetnums=[]\n",
      "path='data/'\n",
      "if not os.path.exists(path):\n",
      "    os.makedirs(path)\n",
      "for i in range(0,24):\n",
      "    si=str(i)\n",
      "    if os.path.exists(path+si):\n",
      "        outfile=open(path+si,'ab')\n",
      "    else:\n",
      "        outfile=open(path+si,'wb')\n",
      "    outfiles.append(outfile)\n",
      "    tweetnums.append(0)\n",
      "i=0\n",
      "while True:\n",
      "    try:\n",
      "        for r in twitter.request('statuses/sample',{'language':'en'}):\n",
      "            if not 'user' in r:\n",
      "                continue\n",
      "            tn=datetime.utcnow().timetuple()\n",
      "            while 'retweeted_status' in r:\n",
      "                r=r['retweeted_status']\n",
      "            t=r['created_at']\n",
      "            ts=time.strptime(t,'%a %b %d %H:%M:%S +0000 %Y')\n",
      "            tdis=time.mktime(tn)-time.mktime(ts)\n",
      "            if tdis<600 and r['retweet_count']==0:\n",
      "                if random.random()>0.15:\n",
      "                    continue\n",
      "            dic={'tweet':r, 'create_struct_time':ts, 'now_struct_time':tn, 'time_difference_in_second':tdis}\n",
      "            cPickle.dump(dic, outfiles[ts.tm_hour])\n",
      "            tweetnums[ts.tm_hour]=tweetnums[ts.tm_hour]+1\n",
      "            if tweetnums[ts.tm_hour]==10:\n",
      "                outfiles[ts.tm_hour].flush()\n",
      "                tweetnums[ts.tm_hour]=0\n",
      "            print r['created_at'],' : ', r['retweet_count'], ':', tdis\n",
      "            i+=1\n",
      "            if i%100==0:\n",
      "                print i,' tweets'\n",
      "    except:\n",
      "        print \"Unexpected error:\", sys.exc_info()[0]"
     ],
     "language": "python",
     "metadata": {},
     "outputs": [
      {
       "output_type": "stream",
       "stream": "stdout",
       "text": [
        "Tue Nov 18 02:49:56 +0000 2014  :  2 : 1032.0\n",
        "Tue Nov 18 03:05:50 +0000 2014"
       ]
      },
      {
       "output_type": "stream",
       "stream": "stdout",
       "text": [
        "  :  1 : 78.0\n",
        "Tue Nov 18 03:00:15 +0000 2014"
       ]
      },
      {
       "output_type": "stream",
       "stream": "stdout",
       "text": [
        "  :  284 : 413.0\n",
        "Thu Nov 06 02:07:57 +0000 2014"
       ]
      },
      {
       "output_type": "stream",
       "stream": "stdout",
       "text": [
        "  :  10124 : 1040352.0\n",
        "Tue Nov 18 03:07:06 +0000 2014  :  0 : 3.0\n",
        "Tue Nov 18 03:07:06 +0000 2014"
       ]
      },
      {
       "output_type": "stream",
       "stream": "stdout",
       "text": [
        "  :  0 : 3.0\n",
        "Tue Nov 18 03:07:06 +0000 2014  :  0 : 3.0\n",
        "Tue Nov 18 03:00:03 +0000 2014"
       ]
      },
      {
       "output_type": "stream",
       "stream": "stdout",
       "text": [
        "  :  293 : 426.0\n",
        "Tue Nov 18 01:11:43 +0000 2014"
       ]
      },
      {
       "output_type": "stream",
       "stream": "stdout",
       "text": [
        "  :  238 : 6926.0\n",
        "Tue Nov 18 03:00:01 +0000 2014"
       ]
      },
      {
       "output_type": "stream",
       "stream": "stdout",
       "text": [
        "  :  1 : 428.0\n",
        "Tue Nov 18 03:07:06 +0000 2014"
       ]
      },
      {
       "output_type": "stream",
       "stream": "stdout",
       "text": [
        "  :  0 : 3.0\n",
        "Tue Nov 18 03:06:06 +0000 2014"
       ]
      },
      {
       "output_type": "stream",
       "stream": "stdout",
       "text": [
        "  :  1 : 63.0\n",
        "Mon Nov 17 17:11:13 +0000 2014"
       ]
      },
      {
       "output_type": "stream",
       "stream": "stdout",
       "text": [
        "  :  506 : 35756.0\n",
        "Tue Nov 18 03:07:06 +0000 2014"
       ]
      },
      {
       "output_type": "stream",
       "stream": "stdout",
       "text": [
        "  :  0 : 3.0\n",
        "Tue Nov 18 02:51:04 +0000 2014"
       ]
      },
      {
       "output_type": "stream",
       "stream": "stdout",
       "text": [
        "  :  887 : 966.0\n",
        "Tue Nov 18 03:00:30 +0000 2014"
       ]
      },
      {
       "output_type": "stream",
       "stream": "stdout",
       "text": [
        "  :  514 : 400.0\n",
        "Tue Nov 18 03:05:33 +0000 2014"
       ]
      },
      {
       "output_type": "stream",
       "stream": "stdout",
       "text": [
        "  :  343 : 97.0\n",
        "Tue Nov 18 02:47:57 +0000 2014"
       ]
      },
      {
       "output_type": "stream",
       "stream": "stdout",
       "text": [
        "  :  6 : 1153.0\n",
        "Tue Nov 18 03:03:59 +0000 2014"
       ]
      },
      {
       "output_type": "stream",
       "stream": "stdout",
       "text": [
        "  :  1 : 191.0\n",
        "Tue Nov 18 03:05:09 +0000 2014"
       ]
      },
      {
       "output_type": "stream",
       "stream": "stdout",
       "text": [
        "  :  19 : 121.0\n",
        "Tue Nov 18 03:05:38 +0000 2014"
       ]
      },
      {
       "output_type": "stream",
       "stream": "stdout",
       "text": [
        "  :  1 : 92.0\n",
        "Tue Nov 18 02:57:58 +0000 2014"
       ]
      },
      {
       "output_type": "stream",
       "stream": "stdout",
       "text": [
        "  :  7 : 552.0\n",
        "Tue Nov 18 03:01:46 +0000 2014"
       ]
      },
      {
       "output_type": "stream",
       "stream": "stdout",
       "text": [
        "  :  3 : 324.0\n",
        "Tue Nov 18 02:45:50 +0000 2014"
       ]
      },
      {
       "output_type": "stream",
       "stream": "stdout",
       "text": [
        "  :  50 : 1280.0\n",
        "Tue Nov 18 03:00:06 +0000 2014"
       ]
      },
      {
       "output_type": "stream",
       "stream": "stdout",
       "text": [
        "  :  66 : 424.0\n",
        "Mon Nov 17 22:12:59 +0000 2014"
       ]
      },
      {
       "output_type": "stream",
       "stream": "stdout",
       "text": [
        "  :  12588 : 17652.0\n",
        "Mon Nov 17 16:32:36 +0000 2014"
       ]
      },
      {
       "output_type": "stream",
       "stream": "stdout",
       "text": [
        "  :  190 : 38075.0\n",
        "Tue Nov 18 03:01:08 +0000 2014"
       ]
      },
      {
       "output_type": "stream",
       "stream": "stdout",
       "text": [
        "  :  1 : 363.0\n",
        "Tue Nov 18 03:05:13 +0000 2014"
       ]
      },
      {
       "output_type": "stream",
       "stream": "stdout",
       "text": [
        "  :  5 : 118.0\n",
        "Tue Nov 18 03:00:13 +0000 2014"
       ]
      },
      {
       "output_type": "stream",
       "stream": "stdout",
       "text": [
        "  :  347 : 418.0\n",
        "Tue Nov 18 03:07:08 +0000 2014  :  0 : 3.0\n",
        "Tue Nov 18 03:07:08 +0000 2014"
       ]
      },
      {
       "output_type": "stream",
       "stream": "stdout",
       "text": [
        "  :  0 : 3.0\n",
        "Mon Nov 17 21:50:25 +0000 2014"
       ]
      },
      {
       "output_type": "stream",
       "stream": "stdout",
       "text": [
        "  :  266 : 19006.0\n",
        "Mon Nov 03 22:27:32 +0000 2014"
       ]
      },
      {
       "output_type": "stream",
       "stream": "stdout",
       "text": [
        "  :  1257 : 1226379.0\n",
        "Tue Nov 18 02:53:49 +0000 2014"
       ]
      },
      {
       "output_type": "stream",
       "stream": "stdout",
       "text": [
        "  :  115 : 803.0\n",
        "Mon Nov 17 21:24:34 +0000 2014"
       ]
      },
      {
       "output_type": "stream",
       "stream": "stdout",
       "text": [
        "  :  249 : 20558.0\n",
        "Tue Nov 18 02:20:51 +0000 2014"
       ]
      },
      {
       "output_type": "stream",
       "stream": "stdout",
       "text": [
        "  :  4 : 2781.0\n",
        "Sat Nov 08 03:00:12 +0000 2014"
       ]
      },
      {
       "output_type": "stream",
       "stream": "stdout",
       "text": [
        "  :  5870 : 864420.0\n",
        "Tue Nov 18 03:02:03 +0000 2014"
       ]
      },
      {
       "output_type": "stream",
       "stream": "stdout",
       "text": [
        "  :  3 : 309.0\n",
        "Sun Nov 02 03:18:49 +0000 2014"
       ]
      },
      {
       "output_type": "stream",
       "stream": "stdout",
       "text": [
        "  :  935 : 1381703.0\n",
        "Tue Nov 18 02:10:12 +0000 2014"
       ]
      },
      {
       "output_type": "stream",
       "stream": "stdout",
       "text": [
        "  :  6 : 3420.0\n",
        "Tue Nov 18 01:25:37 +0000 2014"
       ]
      },
      {
       "output_type": "stream",
       "stream": "stdout",
       "text": [
        "  :  533 : 6095.0\n",
        "Tue Nov 18 03:07:03 +0000 2014"
       ]
      },
      {
       "output_type": "stream",
       "stream": "stdout",
       "text": [
        "  :  50 : 9.0\n",
        "Tue Nov 18 01:52:01 +0000 2014"
       ]
      },
      {
       "output_type": "stream",
       "stream": "stdout",
       "text": [
        "  :  92 : 4511.0\n",
        "Tue Nov 18 02:06:58 +0000 2014"
       ]
      },
      {
       "output_type": "stream",
       "stream": "stdout",
       "text": [
        "  :  506 : 3615.0\n",
        "Tue Nov 18 03:07:09 +0000 2014"
       ]
      },
      {
       "output_type": "stream",
       "stream": "stdout",
       "text": [
        "  :  0 : 4.0\n",
        "Tue Nov 18 02:56:06 +0000 2014"
       ]
      },
      {
       "output_type": "stream",
       "stream": "stdout",
       "text": [
        "  :  7 : 667.0\n",
        "Tue Nov 18 03:05:13 +0000 2014"
       ]
      },
      {
       "output_type": "stream",
       "stream": "stdout",
       "text": [
        "  :  1 : 120.0\n",
        "Tue Nov 18 02:46:07 +0000 2014"
       ]
      },
      {
       "output_type": "stream",
       "stream": "stdout",
       "text": [
        "  :  99 : 1266.0\n",
        "Tue Nov 18 03:04:33 +0000 2014"
       ]
      },
      {
       "output_type": "stream",
       "stream": "stdout",
       "text": [
        "  :  294 : 160.0\n",
        "Tue Nov 18 01:50:25 +0000 2014"
       ]
      },
      {
       "output_type": "stream",
       "stream": "stdout",
       "text": [
        "  :  914 : 4608.0\n",
        "Tue Nov 18 00:23:52 +0000 2014"
       ]
      },
      {
       "output_type": "stream",
       "stream": "stdout",
       "text": [
        "  :  1105 : 9801.0\n",
        "Tue Nov 18 02:26:58 +0000 2014"
       ]
      },
      {
       "output_type": "stream",
       "stream": "stdout",
       "text": [
        "  :  1 : 2415.0\n",
        "Tue Nov 18 03:07:09 +0000 2014"
       ]
      },
      {
       "output_type": "stream",
       "stream": "stdout",
       "text": [
        "  :  0 : 4.0\n",
        "Mon Oct 13 19:00:01 +0000 2014"
       ]
      },
      {
       "output_type": "stream",
       "stream": "stdout",
       "text": [
        "  :  7255 : 3056833.0\n",
        "Wed Nov 05 13:40:11 +0000 2014"
       ]
      },
      {
       "output_type": "stream",
       "stream": "stdout",
       "text": [
        "  :  6103 : 1085223.0\n",
        "Tue Nov 18 03:07:03 +0000 2014"
       ]
      },
      {
       "output_type": "stream",
       "stream": "stdout",
       "text": [
        "  :  118 : 11.0\n",
        "Tue Nov 18 03:07:02 +0000 2014"
       ]
      },
      {
       "output_type": "stream",
       "stream": "stdout",
       "text": [
        "  :  1 : 12.0\n",
        "Tue Nov 18 03:07:03 +0000 2014"
       ]
      },
      {
       "output_type": "stream",
       "stream": "stdout",
       "text": [
        "  :  118 : 11.0\n",
        "Tue Nov 18 02:46:30 +0000 2014"
       ]
      },
      {
       "output_type": "stream",
       "stream": "stdout",
       "text": [
        "  :  749 : 1244.0\n",
        "Mon Nov 17 16:37:31 +0000 2014"
       ]
      },
      {
       "output_type": "stream",
       "stream": "stdout",
       "text": [
        "  :  155 : 37783.0\n",
        "Tue Nov 18 03:06:11 +0000 2014"
       ]
      },
      {
       "output_type": "stream",
       "stream": "stdout",
       "text": [
        "  :  438 : 63.0\n",
        "Tue Nov 18 02:54:58 +0000 2014"
       ]
      },
      {
       "output_type": "stream",
       "stream": "stdout",
       "text": [
        "  :  2 : 736.0\n",
        "Mon Nov 17 22:58:21 +0000 2014"
       ]
      },
      {
       "output_type": "stream",
       "stream": "stdout",
       "text": [
        "  :  55 : 14934.0\n",
        "Tue Nov 18 03:02:07 +0000 2014"
       ]
      },
      {
       "output_type": "stream",
       "stream": "stdout",
       "text": [
        "  :  94 : 308.0\n",
        "Tue Nov 18 03:07:03 +0000 2014"
       ]
      },
      {
       "output_type": "stream",
       "stream": "stdout",
       "text": [
        "  :  116 : 12.0\n",
        "Tue Nov 18 01:44:59 +0000 2014"
       ]
      },
      {
       "output_type": "stream",
       "stream": "stdout",
       "text": [
        "  :  618 : 4936.0\n",
        "Mon Nov 17 21:11:13 +0000 2014"
       ]
      },
      {
       "output_type": "stream",
       "stream": "stdout",
       "text": [
        "  :  17289 : 21362.0\n",
        "Tue Nov 18 02:48:29 +0000 2014"
       ]
      },
      {
       "output_type": "stream",
       "stream": "stdout",
       "text": [
        "  :  61 : 1126.0\n",
        "Tue Nov 18 03:07:10 +0000 2014"
       ]
      },
      {
       "output_type": "stream",
       "stream": "stdout",
       "text": [
        "  :  0 : 5.0\n",
        "Tue Nov 18 03:07:11 +0000 2014"
       ]
      },
      {
       "output_type": "stream",
       "stream": "stdout",
       "text": [
        "  :  0 : 4.0\n",
        "Tue Nov 18 03:07:11 +0000 2014  :  0 : 4.0\n",
        "Tue Nov 18 03:07:11 +0000 2014"
       ]
      },
      {
       "output_type": "stream",
       "stream": "stdout",
       "text": [
        "  :  0 : 5.0\n",
        "Tue Nov 18 03:06:36 +0000 2014"
       ]
      },
      {
       "output_type": "stream",
       "stream": "stdout",
       "text": [
        "  :  1 : 40.0\n",
        "Tue Nov 18 02:48:55 +0000 2014"
       ]
      },
      {
       "output_type": "stream",
       "stream": "stdout",
       "text": [
        "  :  1 : 1101.0\n",
        "Tue Nov 18 03:02:04 +0000 2014"
       ]
      },
      {
       "output_type": "stream",
       "stream": "stdout",
       "text": [
        "  :  327 : 312.0\n",
        "Tue Nov 18 02:59:03 +0000 2014"
       ]
      },
      {
       "output_type": "stream",
       "stream": "stdout",
       "text": [
        "  :  2 : 493.0\n",
        "Sun Nov 16 02:44:29 +0000 2014"
       ]
      },
      {
       "output_type": "stream",
       "stream": "stdout",
       "text": [
        "  :  3 : 174167.0\n",
        "Tue Nov 18 00:56:27 +0000 2014"
       ]
      },
      {
       "output_type": "stream",
       "stream": "stdout",
       "text": [
        "  :  25 : 7849.0\n",
        "Thu Oct 30 00:38:41 +0000 2014"
       ]
      },
      {
       "output_type": "stream",
       "stream": "stdout",
       "text": [
        "  :  610 : 1654115.0\n",
        "Tue Nov 18 03:07:12 +0000 2014"
       ]
      },
      {
       "output_type": "stream",
       "stream": "stdout",
       "text": [
        "  :  0 : 5.0\n",
        "Tue Nov 18 03:06:52 +0000 2014"
       ]
      },
      {
       "output_type": "stream",
       "stream": "stdout",
       "text": [
        "  :  1 : 25.0\n",
        "Tue Nov 18 03:07:12 +0000 2014  :  0 : 5.0\n",
        "Sun Nov 16 17:01:38 +0000 2014"
       ]
      },
      {
       "output_type": "stream",
       "stream": "stdout",
       "text": [
        "  :  2286 : 122739.0\n",
        "Tue Nov 18 03:03:57 +0000 2014"
       ]
      },
      {
       "output_type": "stream",
       "stream": "stdout",
       "text": [
        "  :  2 : 200.0\n",
        "Tue Nov 18 02:58:19 +0000 2014"
       ]
      },
      {
       "output_type": "stream",
       "stream": "stdout",
       "text": [
        "  :  19 : 538.0\n",
        "Tue Nov 18 03:06:17 +0000 2014"
       ]
      },
      {
       "output_type": "stream",
       "stream": "stdout",
       "text": [
        "  :  1 : 60.0\n",
        "Tue Nov 18 02:55:42 +0000 2014"
       ]
      },
      {
       "output_type": "stream",
       "stream": "stdout",
       "text": [
        "  :  629 : 696.0\n",
        "Tue Nov 18 00:56:06 +0000 2014"
       ]
      },
      {
       "output_type": "stream",
       "stream": "stdout",
       "text": [
        "  :  1 : 7872.0\n",
        "Tue Nov 18 02:59:13 +0000 2014"
       ]
      },
      {
       "output_type": "stream",
       "stream": "stdout",
       "text": [
        "  :  1 : 485.0\n",
        "Tue Nov 18 00:55:48 +0000 2014"
       ]
      },
      {
       "output_type": "stream",
       "stream": "stdout",
       "text": [
        "  :  1 : 7890.0\n",
        "Tue Nov 18 03:03:10 +0000 2014"
       ]
      },
      {
       "output_type": "stream",
       "stream": "stdout",
       "text": [
        "  :  1 : 248.0\n",
        "Mon Nov 17 14:00:55 +0000 2014"
       ]
      },
      {
       "output_type": "stream",
       "stream": "stdout",
       "text": [
        "  :  933 : 47183.0\n",
        "Mon Nov 17 04:57:01 +0000 2014"
       ]
      },
      {
       "output_type": "stream",
       "stream": "stdout",
       "text": [
        "  :  14 : 79817.0\n",
        "Tue Nov 18 02:07:11 +0000 2014"
       ]
      },
      {
       "output_type": "stream",
       "stream": "stdout",
       "text": [
        "  :  79 : 3607.0\n",
        "Tue Nov 18 03:02:55 +0000 2014"
       ]
      },
      {
       "output_type": "stream",
       "stream": "stdout",
       "text": [
        "  :  106 : 263.0\n",
        "Tue Nov 18 02:59:47 +0000 2014"
       ]
      },
      {
       "output_type": "stream",
       "stream": "stdout",
       "text": [
        "  :  6 : 451.0\n",
        "Fri Nov 14 19:53:02 +0000 2014"
       ]
      },
      {
       "output_type": "stream",
       "stream": "stdout",
       "text": [
        "  :  732 : 285256.0\n",
        "Tue Nov 18 03:07:13 +0000 2014  :  0 : 6.0\n",
        "Tue Nov 18 03:07:14 +0000 2014"
       ]
      },
      {
       "output_type": "stream",
       "stream": "stdout",
       "text": [
        "  :  0 : 5.0\n",
        "100  tweets\n",
        "Tue Nov 18 03:06:11 +0000 2014"
       ]
      },
      {
       "output_type": "stream",
       "stream": "stdout",
       "text": [
        "  :  538 : 68.0\n",
        "Tue Nov 18 03:07:01 +0000 2014"
       ]
      },
      {
       "output_type": "stream",
       "stream": "stdout",
       "text": [
        "  :  17 : 18.0\n",
        "Tue Nov 18 03:07:14 +0000 2014"
       ]
      },
      {
       "output_type": "stream",
       "stream": "stdout",
       "text": [
        "  :  0 : 5.0\n",
        "Mon Nov 17 23:19:53 +0000 2014"
       ]
      },
      {
       "output_type": "stream",
       "stream": "stdout",
       "text": [
        "  :  269 : 13646.0\n",
        "Tue Nov 18 03:00:52 +0000 2014"
       ]
      },
      {
       "output_type": "stream",
       "stream": "stdout",
       "text": [
        "  :  1 : 387.0\n",
        "Tue Nov 18 02:23:34 +0000 2014"
       ]
      },
      {
       "output_type": "stream",
       "stream": "stdout",
       "text": [
        "  :  731 : 2625.0\n",
        "Tue Nov 18 03:05:55 +0000 2014"
       ]
      },
      {
       "output_type": "stream",
       "stream": "stdout",
       "text": [
        "  :  2 : 84.0\n",
        "Mon Nov 17 06:51:22 +0000 2014"
       ]
      },
      {
       "output_type": "stream",
       "stream": "stdout",
       "text": [
        "  :  29 : 72958.0\n",
        "Tue Nov 18 03:03:49 +0000 2014"
       ]
      },
      {
       "output_type": "stream",
       "stream": "stdout",
       "text": [
        "  :  2 : 211.0\n",
        "Tue Nov 18 03:07:03 +0000 2014"
       ]
      },
      {
       "output_type": "stream",
       "stream": "stdout",
       "text": [
        "  :  379 : 17.0\n",
        "Tue Nov 18 03:07:14 +0000 2014  :  0 : 6.0\n",
        "Tue Nov 18 02:14:06 +0000 2014"
       ]
      },
      {
       "output_type": "stream",
       "stream": "stdout",
       "text": [
        "  :  1746 : 3194.0\n",
        "Tue Nov 18 03:00:47 +0000 2014"
       ]
      },
      {
       "output_type": "stream",
       "stream": "stdout",
       "text": [
        "  :  1 : 393.0\n",
        "Tue Nov 18 03:06:11 +0000 2014"
       ]
      },
      {
       "output_type": "stream",
       "stream": "stdout",
       "text": [
        "  :  582 : 69.0\n",
        "Tue Nov 18 03:07:15 +0000 2014"
       ]
      },
      {
       "output_type": "stream",
       "stream": "stdout",
       "text": [
        "  :  0 : 5.0\n",
        "Tue Nov 18 02:36:44 +0000 2014"
       ]
      },
      {
       "output_type": "stream",
       "stream": "stdout",
       "text": [
        "  :  135 : 1837.0\n",
        "Tue Nov 18 03:07:03 +0000 2014"
       ]
      },
      {
       "output_type": "stream",
       "stream": "stdout",
       "text": [
        "  :  459 : 18.0\n",
        "Tue Nov 18 02:58:33 +0000 2014"
       ]
      },
      {
       "output_type": "stream",
       "stream": "stdout",
       "text": [
        "  :  13 : 528.0\n",
        "Tue Nov 18 03:04:38 +0000 2014"
       ]
      },
      {
       "output_type": "stream",
       "stream": "stdout",
       "text": [
        "  :  470 : 163.0\n",
        "Sun Nov 09 21:09:32 +0000 2014"
       ]
      },
      {
       "output_type": "stream",
       "stream": "stdout",
       "text": [
        "  :  2529 : 712669.0\n",
        "Tue Nov 18 03:05:27 +0000 2014"
       ]
      },
      {
       "output_type": "stream",
       "stream": "stdout",
       "text": [
        "  :  1 : 114.0\n",
        "Tue Nov 18 03:03:07 +0000 2014"
       ]
      },
      {
       "output_type": "stream",
       "stream": "stdout",
       "text": [
        "  :  56 : 254.0\n",
        "Tue Nov 18 02:52:51 +0000 2014"
       ]
      },
      {
       "output_type": "stream",
       "stream": "stdout",
       "text": [
        "  :  9 : 870.0\n",
        "Mon Nov 17 23:38:50 +0000 2014"
       ]
      },
      {
       "output_type": "stream",
       "stream": "stdout",
       "text": [
        "  :  692 : 12512.0\n",
        "Tue Nov 18 03:06:05 +0000 2014"
       ]
      },
      {
       "output_type": "stream",
       "stream": "stdout",
       "text": [
        "  :  1 : 77.0\n",
        "Sun Sep 28 19:01:36 +0000 2014"
       ]
      },
      {
       "output_type": "stream",
       "stream": "stdout",
       "text": [
        "  :  1668 : 4352746.0\n",
        "Tue Nov 18 03:07:04 +0000 2014"
       ]
      },
      {
       "output_type": "stream",
       "stream": "stdout",
       "text": [
        "  :  1 : 18.0\n",
        "Tue Nov 18 02:49:54 +0000 2014"
       ]
      },
      {
       "output_type": "stream",
       "stream": "stdout",
       "text": [
        "  :  1 : 1048.0\n",
        "Tue Nov 18 02:53:48 +0000 2014"
       ]
      },
      {
       "output_type": "stream",
       "stream": "stdout",
       "text": [
        "  :  52 : 814.0\n",
        "Tue Nov 18 02:36:57 +0000 2014"
       ]
      },
      {
       "output_type": "stream",
       "stream": "stdout",
       "text": [
        "  :  3 : 1825.0\n",
        "Mon Nov 17 22:34:39 +0000 2014"
       ]
      },
      {
       "output_type": "stream",
       "stream": "stdout",
       "text": [
        "  :  1639 : 16363.0\n",
        "Tue Nov 18 00:01:16 +0000 2014"
       ]
      },
      {
       "output_type": "stream",
       "stream": "stdout",
       "text": [
        "  :  2112 : 11166.0\n",
        "Tue Nov 18 03:07:16 +0000 2014  :  0 : 6.0\n",
        "Tue Nov 18 02:14:20 +0000 2014"
       ]
      },
      {
       "output_type": "stream",
       "stream": "stdout",
       "text": [
        "  :  2 : 3183.0\n",
        "Tue Nov 18 02:53:06 +0000 2014"
       ]
      },
      {
       "output_type": "stream",
       "stream": "stdout",
       "text": [
        "  :  524 : 857.0\n",
        "Tue Nov 18 02:39:52 +0000 2014"
       ]
      },
      {
       "output_type": "stream",
       "stream": "stdout",
       "text": [
        "  :  55 : 1651.0\n",
        "Tue Nov 18 03:07:03 +0000 2014"
       ]
      },
      {
       "output_type": "stream",
       "stream": "stdout",
       "text": [
        "  :  508 : 20.0\n",
        "Tue Nov 18 03:07:16 +0000 2014  :  0 : 7.0\n",
        "Mon Nov 17 21:39:22 +0000 2014"
       ]
      },
      {
       "output_type": "stream",
       "stream": "stdout",
       "text": [
        "  :  2486 : 19681.0\n",
        "Tue Nov 18 02:58:26 +0000 2014"
       ]
      },
      {
       "output_type": "stream",
       "stream": "stdout",
       "text": [
        "  :  1 : 537.0\n",
        "Tue Nov 18 03:04:46 +0000 2014"
       ]
      },
      {
       "output_type": "stream",
       "stream": "stdout",
       "text": [
        "  :  1 : 157.0\n",
        "Tue Nov 18 03:02:10 +0000 2014"
       ]
      },
      {
       "output_type": "stream",
       "stream": "stdout",
       "text": [
        "  :  218 : 313.0\n",
        "Tue Nov 18 03:03:07 +0000 2014"
       ]
      },
      {
       "output_type": "stream",
       "stream": "stdout",
       "text": [
        "  :  58 : 257.0\n",
        "Tue Nov 18 03:05:28 +0000 2014"
       ]
      },
      {
       "output_type": "stream",
       "stream": "stdout",
       "text": [
        "  :  18 : 116.0\n",
        "Wed Nov 12 13:55:12 +0000 2014"
       ]
      },
      {
       "output_type": "stream",
       "stream": "stdout",
       "text": [
        "  :  2150 : 479532.0\n",
        "Tue Nov 18 03:06:52 +0000 2014"
       ]
      },
      {
       "output_type": "stream",
       "stream": "stdout",
       "text": [
        "  :  2 : 32.0\n",
        "Tue Nov 18 02:54:49 +0000 2014"
       ]
      },
      {
       "output_type": "stream",
       "stream": "stdout",
       "text": [
        "  :  607 : 755.0\n",
        "Tue Nov 18 03:01:39 +0000 2014"
       ]
      },
      {
       "output_type": "stream",
       "stream": "stdout",
       "text": [
        "  :  570 : 345.0\n",
        "Tue Nov 18 01:52:31 +0000 2014"
       ]
      },
      {
       "output_type": "stream",
       "stream": "stdout",
       "text": [
        "  :  33 : 4493.0\n",
        "Tue Nov 18 02:45:14 +0000 2014"
       ]
      },
      {
       "output_type": "stream",
       "stream": "stdout",
       "text": [
        "  :  39 : 1330.0\n",
        "Tue Nov 18 02:32:46 +0000 2014"
       ]
      },
      {
       "output_type": "stream",
       "stream": "stdout",
       "text": [
        "  :  4 : 2079.0\n",
        "Tue Nov 18 03:01:06 +0000 2014"
       ]
      },
      {
       "output_type": "stream",
       "stream": "stdout",
       "text": [
        "  :  1 : 379.0\n",
        "Tue Nov 18 03:06:11 +0000 2014"
       ]
      },
      {
       "output_type": "stream",
       "stream": "stdout",
       "text": [
        "  :  706 : 74.0\n",
        "Tue Nov 18 03:00:59 +0000 2014"
       ]
      },
      {
       "output_type": "stream",
       "stream": "stdout",
       "text": [
        "  :  26 : 386.0\n",
        "Tue Nov 18 02:35:16 +0000 2014"
       ]
      },
      {
       "output_type": "stream",
       "stream": "stdout",
       "text": [
        "  :  77 : 1929.0\n",
        "Tue Nov 18 03:07:17 +0000 2014  :  0 : 8.0\n",
        "Sat Nov 15 19:29:28 +0000 2014"
       ]
      },
      {
       "output_type": "stream",
       "stream": "stdout",
       "text": [
        "  :  932 : 200277.0\n",
        "Sun Oct 12 16:50:20 +0000 2014"
       ]
      },
      {
       "output_type": "stream",
       "stream": "stdout",
       "text": [
        "  :  72 : 3151025.0\n",
        "Mon Oct 20 21:53:59 +0000 2014"
       ]
      },
      {
       "output_type": "stream",
       "stream": "stdout",
       "text": [
        "  :  2319 : 2441607.0\n",
        "Tue Nov 18 01:29:04 +0000 2014"
       ]
      },
      {
       "output_type": "stream",
       "stream": "stdout",
       "text": [
        "  :  16 : 5902.0\n",
        "Tue Nov 18 02:08:13 +0000 2014"
       ]
      },
      {
       "output_type": "stream",
       "stream": "stdout",
       "text": [
        "  :  81 : 3553.0\n",
        "Tue Nov 18 03:05:20 +0000 2014"
       ]
      },
      {
       "output_type": "stream",
       "stream": "stdout",
       "text": [
        "  :  1 : 126.0\n",
        "Wed Nov 12 03:06:35 +0000 2014"
       ]
      },
      {
       "output_type": "stream",
       "stream": "stdout",
       "text": [
        "  :  5773 : 518451.0\n",
        "Mon Nov 17 19:06:48 +0000 2014"
       ]
      },
      {
       "output_type": "stream",
       "stream": "stdout",
       "text": [
        "  :  1161 : 28838.0\n",
        "Tue Nov 18 03:01:02 +0000 2014"
       ]
      },
      {
       "output_type": "stream",
       "stream": "stdout",
       "text": [
        "  :  1 : 384.0\n",
        "Tue Nov 18 03:07:03 +0000 2014"
       ]
      },
      {
       "output_type": "stream",
       "stream": "stdout",
       "text": [
        "  :  559 : 24.0\n",
        "Tue Nov 18 03:07:18 +0000 2014"
       ]
      },
      {
       "output_type": "stream",
       "stream": "stdout",
       "text": [
        "  :  0 : 9.0\n",
        "Tue Nov 18 03:06:11 +0000 2014"
       ]
      },
      {
       "output_type": "stream",
       "stream": "stdout",
       "text": [
        "  :  772 : 76.0\n",
        "Sun Nov 16 19:30:43 +0000 2014"
       ]
      },
      {
       "output_type": "stream",
       "stream": "stdout",
       "text": [
        "  :  406 : 113804.0\n",
        "Tue Nov 18 01:30:46 +0000 2014"
       ]
      },
      {
       "output_type": "stream",
       "stream": "stdout",
       "text": [
        "  :  4254 : 5801.0\n",
        "Tue Nov 18 03:07:18 +0000 2014  :  0 : 9.0\n",
        "Tue Nov 18 03:06:11 +0000 2014"
       ]
      },
      {
       "output_type": "stream",
       "stream": "stdout",
       "text": [
        "  :  772 : 76.0\n",
        "Tue Nov 18 02:31:15 +0000 2014"
       ]
      },
      {
       "output_type": "stream",
       "stream": "stdout",
       "text": [
        "  :  16 : 2172.0\n",
        "Tue Nov 18 03:07:18 +0000 2014  :  0 : 9.0\n",
        "Tue Nov 18 02:54:29 +0000 2014"
       ]
      },
      {
       "output_type": "stream",
       "stream": "stdout",
       "text": [
        "  :  2 : 779.0\n",
        "Tue Nov 18 03:07:01 +0000 2014"
       ]
      },
      {
       "output_type": "stream",
       "stream": "stdout",
       "text": [
        "  :  24 : 27.0\n",
        "Tue Nov 18 03:05:10 +0000 2014"
       ]
      },
      {
       "output_type": "stream",
       "stream": "stdout",
       "text": [
        "  :  52 : 138.0\n",
        "Tue Nov 18 03:06:54 +0000 2014"
       ]
      },
      {
       "output_type": "stream",
       "stream": "stdout",
       "text": [
        "  :  7 : 34.0\n",
        "Tue Nov 18 02:45:00 +0000 2014"
       ]
      },
      {
       "output_type": "stream",
       "stream": "stdout",
       "text": [
        "  :  1 : 1348.0\n",
        "Tue Nov 18 03:06:11 +0000 2014"
       ]
      },
      {
       "output_type": "stream",
       "stream": "stdout",
       "text": [
        "  :  771 : 77.0\n",
        "Mon Nov 17 06:18:38 +0000 2014"
       ]
      },
      {
       "output_type": "stream",
       "stream": "stdout",
       "text": [
        "  :  20 : 74930.0\n",
        "Tue Nov 18 03:00:28 +0000 2014"
       ]
      },
      {
       "output_type": "stream",
       "stream": "stdout",
       "text": [
        "  :  25 : 420.0\n",
        "Tue Nov 18 03:07:18 +0000 2014  :  0 : 10.0\n",
        "Tue Nov 18 03:07:18 +0000 2014"
       ]
      },
      {
       "output_type": "stream",
       "stream": "stdout",
       "text": [
        "  :  0 : 11.0\n",
        "Tue Nov 18 03:04:55 +0000 2014"
       ]
      },
      {
       "output_type": "stream",
       "stream": "stdout",
       "text": [
        "  :  401 : 154.0\n",
        "Tue Nov 18 03:06:11 +0000 2014"
       ]
      },
      {
       "output_type": "stream",
       "stream": "stdout",
       "text": [
        "  :  771 : 78.0\n",
        "Tue Nov 18 02:50:10 +0000 2014"
       ]
      },
      {
       "output_type": "stream",
       "stream": "stdout",
       "text": [
        "  :  5 : 1039.0\n",
        "Tue Nov 18 03:00:18 +0000 2014"
       ]
      },
      {
       "output_type": "stream",
       "stream": "stdout",
       "text": [
        "  :  1 : 431.0\n",
        "Mon Nov 17 18:35:33 +0000 2014"
       ]
      },
      {
       "output_type": "stream",
       "stream": "stdout",
       "text": [
        "  :  328 : 30716.0\n",
        "Tue Nov 18 03:06:48 +0000 2014"
       ]
      },
      {
       "output_type": "stream",
       "stream": "stdout",
       "text": [
        "  :  1 : 41.0\n",
        "Tue Nov 18 03:04:26 +0000 2014"
       ]
      },
      {
       "output_type": "stream",
       "stream": "stdout",
       "text": [
        "  :  2 : 183.0\n",
        "Tue Nov 18 03:07:03 +0000 2014"
       ]
      },
      {
       "output_type": "stream",
       "stream": "stdout",
       "text": [
        "  :  670 : 27.0\n",
        "Tue Nov 18 03:06:11 +0000 2014"
       ]
      },
      {
       "output_type": "stream",
       "stream": "stdout",
       "text": [
        "  :  842 : 79.0\n",
        "Tue Nov 18 03:06:11 +0000 2014"
       ]
      },
      {
       "output_type": "stream",
       "stream": "stdout",
       "text": [
        "  :  842 : 79.0\n",
        "Wed Oct 15 07:31:52 +0000 2014"
       ]
      },
      {
       "output_type": "stream",
       "stream": "stdout",
       "text": [
        "  :  293 : 2925338.0\n",
        "Tue Nov 18 02:47:45 +0000 2014"
       ]
      },
      {
       "output_type": "stream",
       "stream": "stdout",
       "text": [
        "  :  2 : 1185.0\n",
        "Tue Nov 18 03:03:52 +0000 2014"
       ]
      },
      {
       "output_type": "stream",
       "stream": "stdout",
       "text": [
        "  :  3 : 218.0\n",
        "Tue Nov 18 00:46:07 +0000 2014"
       ]
      },
      {
       "output_type": "stream",
       "stream": "stdout",
       "text": [
        "  :  10 : 8483.0\n",
        "Tue Nov 18 02:46:28 +0000 2014"
       ]
      },
      {
       "output_type": "stream",
       "stream": "stdout",
       "text": [
        "  :  4 : 1262.0\n",
        "Mon Nov 17 01:03:00 +0000 2014"
       ]
      },
      {
       "output_type": "stream",
       "stream": "stdout",
       "text": [
        "  :  2956 : 93870.0\n",
        "200  tweets\n",
        "Tue Nov 18 03:06:11 +0000 2014"
       ]
      },
      {
       "output_type": "stream",
       "stream": "stdout",
       "text": [
        "  :  913 : 79.0\n",
        "Tue Nov 18 03:07:20 +0000 2014  :  0 : 11.0\n",
        "Tue Nov 18 03:00:37 +0000 2014"
       ]
      },
      {
       "output_type": "stream",
       "stream": "stdout",
       "text": [
        "  :  403 : 414.0\n",
        "Tue Nov 18 03:04:35 +0000 2014"
       ]
      },
      {
       "output_type": "stream",
       "stream": "stdout",
       "text": [
        "  :  248 : 176.0\n",
        "Tue Nov 18 01:14:09 +0000 2014"
       ]
      },
      {
       "output_type": "stream",
       "stream": "stdout",
       "text": [
        "  :  139 : 6802.0\n",
        "Tue Nov 18 03:04:38 +0000 2014"
       ]
      },
      {
       "output_type": "stream",
       "stream": "stdout",
       "text": [
        "  :  1 : 173.0\n",
        "Tue Nov 18 03:06:32 +0000 2014"
       ]
      },
      {
       "output_type": "stream",
       "stream": "stdout",
       "text": [
        "  :  1 : 59.0\n",
        "Tue Nov 18 03:06:54 +0000 2014"
       ]
      },
      {
       "output_type": "stream",
       "stream": "stdout",
       "text": [
        "  :  1 : 37.0\n",
        "Mon Nov 17 02:14:01 +0000 2014"
       ]
      },
      {
       "output_type": "stream",
       "stream": "stdout",
       "text": [
        "  :  4498 : 89610.0\n",
        "Mon Nov 10 17:26:09 +0000 2014"
       ]
      },
      {
       "output_type": "stream",
       "stream": "stdout",
       "text": [
        "  :  1501 : 639682.0\n",
        "Fri Nov 14 02:06:18 +0000 2014"
       ]
      },
      {
       "output_type": "stream",
       "stream": "stdout",
       "text": [
        "  :  1930 : 349273.0\n",
        "Sun Nov 16 04:55:32 +0000 2014"
       ]
      },
      {
       "output_type": "stream",
       "stream": "stdout",
       "text": [
        "  :  156 : 166319.0\n",
        "Tue Nov 18 03:07:20 +0000 2014"
       ]
      },
      {
       "output_type": "stream",
       "stream": "stdout",
       "text": [
        "  :  0 : 12.0\n",
        "Tue Nov 18 00:14:48 +0000 2014"
       ]
      },
      {
       "output_type": "stream",
       "stream": "stdout",
       "text": [
        "  :  13 : 10364.0\n",
        "Tue Nov 18 03:07:03 +0000 2014"
       ]
      },
      {
       "output_type": "stream",
       "stream": "stdout",
       "text": [
        "  :  718 : 29.0\n",
        "Tue Nov 18 03:01:14 +0000 2014"
       ]
      },
      {
       "output_type": "stream",
       "stream": "stdout",
       "text": [
        "  :  4 : 378.0\n",
        "Tue Nov 18 03:07:06 +0000 2014"
       ]
      },
      {
       "output_type": "stream",
       "stream": "stdout",
       "text": [
        "  :  1 : 26.0\n",
        "Sun Nov 16 04:55:32 +0000 2014"
       ]
      },
      {
       "output_type": "stream",
       "stream": "stdout",
       "text": [
        "  :  156 : 166320.0\n",
        "Mon Nov 17 20:04:41 +0000 2014"
       ]
      },
      {
       "output_type": "stream",
       "stream": "stdout",
       "text": [
        "  :  2432 : 25371.0\n",
        "Tue Nov 18 02:26:23 +0000 2014"
       ]
      },
      {
       "output_type": "stream",
       "stream": "stdout",
       "text": [
        "  :  1072 : 2469.0\n",
        "Mon Nov 17 22:34:11 +0000 2014"
       ]
      },
      {
       "output_type": "stream",
       "stream": "stdout",
       "text": [
        "  :  1 : 16401.0\n",
        "Tue Nov 18 03:07:00 +0000 2014"
       ]
      },
      {
       "output_type": "stream",
       "stream": "stdout",
       "text": [
        "  :  1 : 33.0\n",
        "Tue Nov 18 02:54:59 +0000 2014"
       ]
      },
      {
       "output_type": "stream",
       "stream": "stdout",
       "text": [
        "  :  746 : 754.0\n",
        "Tue Nov 18 02:46:04 +0000 2014"
       ]
      },
      {
       "output_type": "stream",
       "stream": "stdout",
       "text": [
        "  :  22 : 1289.0\n",
        "Tue Nov 18 02:59:49 +0000 2014"
       ]
      },
      {
       "output_type": "stream",
       "stream": "stdout",
       "text": [
        "  :  4 : 464.0\n",
        "Tue Nov 18 03:04:33 +0000 2014"
       ]
      },
      {
       "output_type": "stream",
       "stream": "stdout",
       "text": [
        "  :  306 : 180.0\n",
        "Tue Nov 18 03:07:21 +0000 2014"
       ]
      },
      {
       "output_type": "stream",
       "stream": "stdout",
       "text": [
        "  :  0 : 12.0\n",
        "Tue Nov 18 02:55:07 +0000 2014"
       ]
      },
      {
       "output_type": "stream",
       "stream": "stdout",
       "text": [
        "  :  400 : 746.0\n",
        "Tue Nov 18 03:03:26 +0000 2014"
       ]
      },
      {
       "output_type": "stream",
       "stream": "stdout",
       "text": [
        "  :  2 : 247.0\n",
        "Tue Nov 18 03:07:21 +0000 2014  :  0 : 12.0\n",
        "Tue Nov 18 02:16:46 +0000 2014"
       ]
      },
      {
       "output_type": "stream",
       "stream": "stdout",
       "text": [
        "  :  135 : 3047.0\n",
        "Tue Nov 18 02:50:40 +0000 2014"
       ]
      },
      {
       "output_type": "stream",
       "stream": "stdout",
       "text": [
        "  :  1247 : 1013.0\n",
        "Tue Nov 18 02:20:17 +0000 2014"
       ]
      },
      {
       "output_type": "stream",
       "stream": "stdout",
       "text": [
        "  :  15 : 2837.0\n",
        "Sat Nov 15 10:50:02 +0000 2014"
       ]
      },
      {
       "output_type": "stream",
       "stream": "stdout",
       "text": [
        "  :  13 : 231452.0\n",
        "Tue Nov 18 03:07:21 +0000 2014"
       ]
      },
      {
       "output_type": "stream",
       "stream": "stdout",
       "text": [
        "  :  0 : 13.0\n",
        "Tue Nov 18 03:06:11 +0000 2014"
       ]
      },
      {
       "output_type": "stream",
       "stream": "stdout",
       "text": [
        "  :  974 : 83.0\n",
        "Thu Nov 06 18:35:17 +0000 2014"
       ]
      },
      {
       "output_type": "stream",
       "stream": "stdout",
       "text": [
        "  :  1 : 981137.0\n",
        "Tue Nov 18 03:07:21 +0000 2014"
       ]
      },
      {
       "output_type": "stream",
       "stream": "stdout",
       "text": [
        "  :  0 : 13.0\n",
        "Unexpected error:"
       ]
      },
      {
       "output_type": "stream",
       "stream": "stdout",
       "text": [
        " <type 'exceptions.KeyboardInterrupt'>\n",
        "Tue Nov 18 02:16:29 +0000 2014"
       ]
      },
      {
       "output_type": "stream",
       "stream": "stdout",
       "text": [
        "  :  3254 : 3066.0\n",
        "Tue Nov 18 03:07:34 +0000 2014  :  0 : 1.0\n",
        "Tue Nov 18 03:06:01 +0000 2014"
       ]
      },
      {
       "output_type": "stream",
       "stream": "stdout",
       "text": [
        "  :  52 : 97.0\n",
        "Tue Nov 18 03:07:16 +0000 2014"
       ]
      },
      {
       "output_type": "stream",
       "stream": "stdout",
       "text": [
        "  :  27 : 22.0\n",
        "Tue Nov 18 03:04:19 +0000 2014"
       ]
      },
      {
       "output_type": "stream",
       "stream": "stdout",
       "text": [
        "  :  1 : 199.0\n",
        "Tue Nov 18 03:05:08 +0000 2014"
       ]
      },
      {
       "output_type": "stream",
       "stream": "stdout",
       "text": [
        "  :  55 : 150.0\n",
        "Tue Nov 18 03:06:36 +0000 2014"
       ]
      },
      {
       "output_type": "stream",
       "stream": "stdout",
       "text": [
        "  :  1 : 62.0\n",
        "Sun Nov 16 05:00:04 +0000 2014"
       ]
      },
      {
       "output_type": "stream",
       "stream": "stdout",
       "text": [
        "  :  230 : 166054.0\n",
        "Tue Nov 18 03:06:07 +0000 2014"
       ]
      },
      {
       "output_type": "stream",
       "stream": "stdout",
       "text": [
        "  :  1 : 92.0\n",
        "Tue Nov 18 03:06:39 +0000 2014"
       ]
      },
      {
       "output_type": "stream",
       "stream": "stdout",
       "text": [
        "  :  6 : 60.0\n",
        "Tue Nov 18 03:05:16 +0000 2014"
       ]
      },
      {
       "output_type": "stream",
       "stream": "stdout",
       "text": [
        "  :  521 : 143.0\n",
        "Tue Nov 18 02:54:49 +0000 2014"
       ]
      },
      {
       "output_type": "stream",
       "stream": "stdout",
       "text": [
        "  :  618 : 770.0\n",
        "Tue Nov 18 02:13:35 +0000 2014"
       ]
      },
      {
       "output_type": "stream",
       "stream": "stdout",
       "text": [
        "  :  233 : 3244.0\n",
        "Tue Nov 18 01:24:21 +0000 2014"
       ]
      },
      {
       "output_type": "stream",
       "stream": "stdout",
       "text": [
        "  :  631 : 6198.0\n",
        "Fri Nov 14 23:31:59 +0000 2014"
       ]
      },
      {
       "output_type": "stream",
       "stream": "stdout",
       "text": [
        "  :  24 : 272140.0\n",
        "Tue Nov 18 03:04:44 +0000 2014"
       ]
      },
      {
       "output_type": "stream",
       "stream": "stdout",
       "text": [
        "  :  1 : 175.0\n",
        "Tue Nov 18 03:06:11 +0000 2014"
       ]
      },
      {
       "output_type": "stream",
       "stream": "stdout",
       "text": [
        "  :  1625 : 88.0\n",
        "Tue Nov 18 02:44:11 +0000 2014"
       ]
      },
      {
       "output_type": "stream",
       "stream": "stdout",
       "text": [
        "  :  7 : 1408.0\n",
        "Tue Nov 18 03:02:07 +0000 2014"
       ]
      },
      {
       "output_type": "stream",
       "stream": "stdout",
       "text": [
        "  :  1 : 332.0\n",
        "Tue Nov 18 02:59:43 +0000 2014"
       ]
      },
      {
       "output_type": "stream",
       "stream": "stdout",
       "text": [
        "  :  69 : 477.0\n",
        "Tue Nov 18 03:07:36 +0000 2014  :  0 : 4.0\n",
        "Tue Nov 18 03:07:36 +0000 2014"
       ]
      },
      {
       "output_type": "stream",
       "stream": "stdout",
       "text": [
        "  :  0 : 4.0\n",
        "Tue Nov 18 03:06:26 +0000 2014"
       ]
      },
      {
       "output_type": "stream",
       "stream": "stdout",
       "text": [
        "  :  1 : 74.0\n",
        "Tue Nov 18 00:41:56 +0000 2014"
       ]
      },
      {
       "output_type": "stream",
       "stream": "stdout",
       "text": [
        "  :  5 : 8744.0\n",
        "Tue Nov 18 00:40:31 +0000 2014"
       ]
      },
      {
       "output_type": "stream",
       "stream": "stdout",
       "text": [
        "  :  17 : 8829.0\n",
        "Thu Feb 10 03:19:23 +0000 2011"
       ]
      },
      {
       "output_type": "stream",
       "stream": "stdout",
       "text": [
        "  :  87374 : 118972097.0\n",
        "Tue Nov 18 01:30:11 +0000 2014"
       ]
      },
      {
       "output_type": "stream",
       "stream": "stdout",
       "text": [
        "  :  28 : 5849.0\n",
        "Tue Nov 18 03:07:15 +0000 2014"
       ]
      },
      {
       "output_type": "stream",
       "stream": "stdout",
       "text": [
        "  :  1 : 25.0\n",
        "Mon Nov 03 22:27:32 +0000 2014"
       ]
      },
      {
       "output_type": "stream",
       "stream": "stdout",
       "text": [
        "  :  1267 : 1226408.0\n",
        "Tue Nov 18 03:07:16 +0000 2014"
       ]
      },
      {
       "output_type": "stream",
       "stream": "stdout",
       "text": [
        "  :  31 : 24.0\n",
        "Tue Nov 18 03:07:36 +0000 2014"
       ]
      },
      {
       "output_type": "stream",
       "stream": "stdout",
       "text": [
        "  :  0 : 5.0\n",
        "Tue Nov 18 03:07:37 +0000 2014"
       ]
      },
      {
       "output_type": "stream",
       "stream": "stdout",
       "text": [
        "  :  0 : 4.0\n",
        "Mon Nov 17 20:41:51 +0000 2014"
       ]
      },
      {
       "output_type": "stream",
       "stream": "stdout",
       "text": [
        "  :  2 : 23150.0\n",
        "Tue Nov 18 03:07:37 +0000 2014"
       ]
      },
      {
       "output_type": "stream",
       "stream": "stdout",
       "text": [
        "  :  0 : 4.0\n",
        "Tue Nov 18 03:07:37 +0000 2014"
       ]
      },
      {
       "output_type": "stream",
       "stream": "stdout",
       "text": [
        "  :  0 : 4.0\n",
        "Tue Nov 18 03:07:16 +0000 2014"
       ]
      },
      {
       "output_type": "stream",
       "stream": "stdout",
       "text": [
        "  :  34 : 25.0\n",
        "Tue Nov 18 03:07:37 +0000 2014"
       ]
      },
      {
       "output_type": "stream",
       "stream": "stdout",
       "text": [
        "  :  0 : 4.0\n",
        "Tue Nov 18 02:09:02 +0000 2014"
       ]
      },
      {
       "output_type": "stream",
       "stream": "stdout",
       "text": [
        "  :  2084 : 3519.0\n",
        "Mon Nov 17 15:40:34 +0000 2014"
       ]
      },
      {
       "output_type": "stream",
       "stream": "stdout",
       "text": [
        "  :  46 : 41228.0\n",
        "Fri Nov 14 08:14:52 +0000 2014"
       ]
      },
      {
       "output_type": "stream",
       "stream": "stdout",
       "text": [
        "  :  354 : 327170.0\n",
        "Tue Nov 18 03:05:16 +0000 2014"
       ]
      },
      {
       "output_type": "stream",
       "stream": "stdout",
       "text": [
        "  :  1 : 146.0\n",
        "Tue Nov 18 03:07:38 +0000 2014  :  0 : 4.0\n",
        "Tue Nov 18 03:05:19 +0000 2014"
       ]
      },
      {
       "output_type": "stream",
       "stream": "stdout",
       "text": [
        "  :  631 : 143.0\n",
        "Mon Nov 17 17:33:00 +0000 2014"
       ]
      },
      {
       "output_type": "stream",
       "stream": "stdout",
       "text": [
        "  :  502 : 34482.0\n",
        "Wed Nov 12 10:02:15 +0000 2014"
       ]
      },
      {
       "output_type": "stream",
       "stream": "stdout",
       "text": [
        "  :  1098 : 493527.0\n",
        "Tue Nov 18 03:07:38 +0000 2014"
       ]
      },
      {
       "output_type": "stream",
       "stream": "stdout",
       "text": [
        "  :  0 : 4.0\n",
        "Fri Nov 14 00:09:46 +0000 2014"
       ]
      },
      {
       "output_type": "stream",
       "stream": "stdout",
       "text": [
        "  :  46 : 356276.0\n",
        "Tue Nov 18 03:07:38 +0000 2014"
       ]
      },
      {
       "output_type": "stream",
       "stream": "stdout",
       "text": [
        "  :  0 : 4.0\n",
        "Tue Nov 18 02:06:42 +0000 2014"
       ]
      },
      {
       "output_type": "stream",
       "stream": "stdout",
       "text": [
        "  :  1685 : 3661.0\n",
        "Tue Nov 18 03:07:38 +0000 2014  :  0 : 5.0\n",
        "Tue Nov 18 03:07:03 +0000 2014"
       ]
      },
      {
       "output_type": "stream",
       "stream": "stdout",
       "text": [
        "  :  1209 : 40.0\n",
        "Tue Nov 18 02:55:38 +0000 2014"
       ]
      },
      {
       "output_type": "stream",
       "stream": "stdout",
       "text": [
        "  :  2 : 725.0\n",
        "Mon Nov 17 06:26:10 +0000 2014"
       ]
      },
      {
       "output_type": "stream",
       "stream": "stdout",
       "text": [
        "  :  1487 : 74493.0\n",
        "Mon Nov 17 18:22:57 +0000 2014"
       ]
      },
      {
       "output_type": "stream",
       "stream": "stdout",
       "text": [
        "  :  5 : 31486.0\n",
        "Tue Nov 18 02:53:24 +0000 2014"
       ]
      },
      {
       "output_type": "stream",
       "stream": "stdout",
       "text": [
        "  :  466 : 859.0\n",
        "Tue Nov 18 02:56:04 +0000 2014"
       ]
      },
      {
       "output_type": "stream",
       "stream": "stdout",
       "text": [
        "  :  1 : 700.0\n",
        "Tue Nov 18 03:07:40 +0000 2014"
       ]
      },
      {
       "output_type": "stream",
       "stream": "stdout",
       "text": [
        "  :  0 : 4.0\n",
        "Tue Nov 18 03:06:23 +0000 2014"
       ]
      },
      {
       "output_type": "stream",
       "stream": "stdout",
       "text": [
        "  :  3 : 81.0\n",
        "Tue Nov 18 03:07:06 +0000 2014"
       ]
      },
      {
       "output_type": "stream",
       "stream": "stdout",
       "text": [
        "  :  1 : 38.0\n",
        "Thu Nov 13 15:33:08 +0000 2014"
       ]
      },
      {
       "output_type": "stream",
       "stream": "stdout",
       "text": [
        "  :  495 : 387276.0\n",
        "Tue Nov 18 02:51:51 +0000 2014"
       ]
      },
      {
       "output_type": "stream",
       "stream": "stdout",
       "text": [
        "  :  913 : 953.0\n",
        "Tue Nov 18 02:02:35 +0000 2014"
       ]
      },
      {
       "output_type": "stream",
       "stream": "stdout",
       "text": [
        "  :  2 : 3909.0\n",
        "300  tweets\n",
        "Tue Nov 18 03:01:05 +0000 2014"
       ]
      },
      {
       "output_type": "stream",
       "stream": "stdout",
       "text": [
        "  :  2 : 399.0\n",
        "Tue Nov 18 03:04:55 +0000 2014"
       ]
      },
      {
       "output_type": "stream",
       "stream": "stdout",
       "text": [
        "  :  437 : 169.0\n",
        "Fri Nov 07 19:25:39 +0000 2014"
       ]
      },
      {
       "output_type": "stream",
       "stream": "stdout",
       "text": [
        "  :  2933 : 891726.0\n",
        "Tue Nov 18 01:37:05 +0000 2014"
       ]
      },
      {
       "output_type": "stream",
       "stream": "stdout",
       "text": [
        "  :  44 : 5440.0\n",
        "Tue Nov 18 01:12:20 +0000 2014"
       ]
      },
      {
       "output_type": "stream",
       "stream": "stdout",
       "text": [
        "  :  4 : 6925.0\n",
        "Tue Nov 18 02:05:37 +0000 2014"
       ]
      },
      {
       "output_type": "stream",
       "stream": "stdout",
       "text": [
        "  :  1878 : 3728.0\n",
        "Tue Nov 18 02:55:02 +0000 2014"
       ]
      },
      {
       "output_type": "stream",
       "stream": "stdout",
       "text": [
        "  :  4 : 763.0\n",
        "Sat Nov 15 01:26:53 +0000 2014"
       ]
      },
      {
       "output_type": "stream",
       "stream": "stdout",
       "text": [
        "  :  2 : 265252.0\n",
        "Mon Nov 17 01:31:11 +0000 2014"
       ]
      },
      {
       "output_type": "stream",
       "stream": "stdout",
       "text": [
        "  :  1005 : 92194.0\n",
        "Tue Nov 18 03:07:31 +0000 2014"
       ]
      },
      {
       "output_type": "stream",
       "stream": "stdout",
       "text": [
        "  :  1 : 14.0\n",
        "Tue Nov 18 03:06:51 +0000 2014"
       ]
      },
      {
       "output_type": "stream",
       "stream": "stdout",
       "text": [
        "  :  1 : 54.0\n",
        "Tue Nov 18 03:07:41 +0000 2014"
       ]
      },
      {
       "output_type": "stream",
       "stream": "stdout",
       "text": [
        "  :  0 : 5.0\n",
        "Tue Nov 18 03:06:39 +0000 2014"
       ]
      },
      {
       "output_type": "stream",
       "stream": "stdout",
       "text": [
        "  :  25 : 67.0\n",
        "Mon Nov 17 21:32:09 +0000 2014"
       ]
      },
      {
       "output_type": "stream",
       "stream": "stdout",
       "text": [
        "  :  7879 : 20137.0\n",
        "Tue Nov 18 03:07:41 +0000 2014  :  0 : 5.0\n",
        "Tue Nov 18 02:47:13 +0000 2014"
       ]
      },
      {
       "output_type": "stream",
       "stream": "stdout",
       "text": [
        "  :  13 : 1233.0\n",
        "Thu Sep 11 22:10:26 +0000 2014"
       ]
      },
      {
       "output_type": "stream",
       "stream": "stdout",
       "text": [
        "  :  416 : 5810240.0\n",
        "Tue Nov 18 03:07:29 +0000 2014"
       ]
      }
     ]
    },
    {
     "cell_type": "code",
     "collapsed": false,
     "input": [],
     "language": "python",
     "metadata": {},
     "outputs": [],
     "prompt_number": 1
    },
    {
     "cell_type": "code",
     "collapsed": false,
     "input": [],
     "language": "python",
     "metadata": {},
     "outputs": []
    },
    {
     "cell_type": "code",
     "collapsed": false,
     "input": [
      "def read_senators(filename):\n",
      "    \"\"\" Read a list of usernames for U.S. senators.\n",
      "    Args:\n",
      "      filename: The name of the text file containing one senator username per file.\n",
      "    Returns:\n",
      "      A list of usernames\n",
      "    \"\"\"\n",
      "    # Complete this method.\n",
      "    f=open(filename)\n",
      "    senators=[]\n",
      "    for line in f:\n",
      "        if line[-1]=='\\n':\n",
      "            if len(line)!=1:\n",
      "                senators.append(line[:-1])\n",
      "        else:\n",
      "            senators.append(line)\n",
      "    return senators\n",
      "    \n",
      "senators = read_senators('senators.txt')\n",
      "print 'Read', len(senators), 'senators:\\n', '\\n'.join(senators)"
     ],
     "language": "python",
     "metadata": {},
     "outputs": [
      {
       "output_type": "stream",
       "stream": "stdout",
       "text": [
        "Read 11 senators:\n",
        "MarkUdall\n",
        "SenGillibrand\n",
        "SenatorLeahy\n",
        "PattyMurray\n",
        "SenJohnMcCain\n",
        "McConnellPress\n",
        "DavidVitter\n",
        "SenatorHagan\n",
        "kaybaileyhutch\n",
        "SenatorCarper\n",
        "\t\n"
       ]
      }
     ],
     "prompt_number": 18
    },
    {
     "cell_type": "code",
     "collapsed": false,
     "input": [
      "# Add senators as nodes.\n",
      "def create_graph(senators):\n",
      "    \"\"\" Create a networkx DiGraph, adding each senator as a node. \n",
      "    Args:\n",
      "      senators: a list of Senator Twitter screen names.\n",
      "    Returns:\n",
      "      A networkx DiGraph\n",
      "    \"\"\"\n",
      "    # Complete this method.\n",
      "    graph=nx.DiGraph()\n",
      "    for node in senators:\n",
      "        graph.add_node(node)\n",
      "    return graph\n",
      "\n",
      "graph = create_graph(senators)\n",
      "nx.draw(graph, with_labels=True)\n",
      "plt.savefig(\"senators.png\")"
     ],
     "language": "python",
     "metadata": {},
     "outputs": [
      {
       "metadata": {},
       "output_type": "display_data",
       "png": "[encoded data removed]",
       "text": [
        "<matplotlib.figure.Figure at 0x108c8b950>"
       ]
      }
     ],
     "prompt_number": 14
    },
    {
     "cell_type": "code",
     "collapsed": false,
     "input": [
      "# Now query the Twitter API to add directed edges between all senators X and Y if X follows Y.\n",
      "\n",
      "# I've provided the method below to handle Twitter's rate limiting.\n",
      "def robust_request(twitter, resource, params, max_tries=5):\n",
      "    \"\"\" If a Twitter request fails, sleep for 15 minutes.\n",
      "    Do this at most max_tries times before quitting.\n",
      "    Args:\n",
      "      twitter .... A TwitterAPI object.\n",
      "      resource ... A resource string to request.\n",
      "      params ..... A parameter dictionary for the request.\n",
      "      max_tries .. The maximum number of tries to attempt.\n",
      "    Returns:\n",
      "      A TwitterResponse object, or None if failed.\n",
      "    \"\"\"\n",
      "    for i in range(max_tries):\n",
      "        request = twitter.request(resource, params)\n",
      "        if request.status_code == 200:\n",
      "            return request\n",
      "        else:\n",
      "            print >> sys.stderr, 'Got error:', request.text, '\\nsleeping for 15 minutes.'\n",
      "            sys.stderr.flush()\n",
      "            time.sleep(60 * 15)\n",
      "    \n",
      "    \n",
      "def get_friends(screen_name, twitter):\n",
      "    \"\"\" Return Twitter screen names for all accounts followed by screen_name. Returns the first 200 users.\n",
      "    See docs at: https://dev.twitter.com/docs/api/1.1/get/friends/list\n",
      "    Args:\n",
      "      screen_name ... The query account.\n",
      "      twitter ....... The TwitterAPI object.\n",
      "    Returns:\n",
      "      A list of Twitter screen names.\n",
      "    \"\"\"\n",
      "    # Complete this method.\n",
      "    request=robust_request(twitter, 'friends/list', {'screen_name' : screen_name, 'count' : 200})\n",
      "    friends=[]\n",
      "    for r in request:\n",
      "        for user in r['users']:\n",
      "            friends.append(user['screen_name'])\n",
      "    return friends\n",
      "\n",
      "def add_edges(senators, graph, twitter):\n",
      "    \"\"\" Add edges to the graph representing Senator X following Senator Y.\n",
      "    For each senator, call the get_friends method to get the list of other people s/he follows.\n",
      "    Then, for each friend that is on the original senator list, add an edge to the graph.\n",
      "    \n",
      "    Args:\n",
      "      senators ... A list of senator screen names.\n",
      "      graph ...... A networkx graph.\n",
      "      twitter .... TwitterAPI object.\n",
      "    \"\"\"\n",
      "    # Complete this method.\n",
      "    dicSenators={}\n",
      "    for senator in senators:\n",
      "        dicSenators[senator]=1\n",
      "        \n",
      "    i=1\n",
      "    for senator in senators:\n",
      "        print i\n",
      "        i+=1\n",
      "        friends=get_friends(senator, twitter)\n",
      "        for friend in friends:\n",
      "            if friend in dicSenators:\n",
      "                graph.add_edge(senator, friend)\n",
      "    return None\n",
      "\n",
      "add_edges(senators, graph, twitter)\n",
      "# Draw the new graph and save to file.\n",
      "# Note that your graph may differ somewhat based on the results of what Twitter returns.\n",
      "nx.draw(graph, with_labels=True)\n",
      "plt.savefig(\"senators-edges.png\")"
     ],
     "language": "python",
     "metadata": {},
     "outputs": [
      {
       "output_type": "stream",
       "stream": "stdout",
       "text": [
        "<TwitterAPI.TwitterAPI.TwitterResponse object at 0x108d1ed90>\n",
        "<class 'TwitterAPI.TwitterAPI.TwitterResponse'>\n",
        "{u'relationship': {u'source': {u'notifications_enabled': None, u'screen_name': u'MarkUdall', u'all_replies': None, u'muting': None, u'followed_by': True, u'blocking': None, u'can_dm': True, u'marked_spam': None, u'id_str': u'8128442', u'following': False, u'want_retweets': None, u'following_requested': None, u'id': 8128442, u'following_received': None}, u'target': {u'screen_name': u'SenGillibrand', u'followed_by': False, u'id_str': u'72198806', u'following': True, u'following_requested': None, u'id': 72198806, u'following_received': None}}}\n",
        "<type 'dict'>\n"
       ]
      },
      {
       "metadata": {},
       "output_type": "display_data",
       "png": "[encoded data removed]",
       "text": [
        "<matplotlib.figure.Figure at 0x108d1eb50>"
       ]
      }
     ],
     "prompt_number": 8
    },
    {
     "cell_type": "code",
     "collapsed": false,
     "input": [
      "# Now print and plot the degree and betweenness_centrality of each node.\n",
      "# See the networkx functions `degree` and `betweenness_centrality` at \n",
      "# http://networkx.github.io/documentation.html\n",
      "def get_degrees(graph):\n",
      "    \"\"\"\n",
      "    Args:\n",
      "      graph ... A networkx graph\n",
      "    Returns:\n",
      "      Return a list of (senator, degree) tuples.\n",
      "    \"\"\"\n",
      "    # Complete this method.\n",
      "    degreeList=list((item[0],item[1]) for item in graph.degree().items())\n",
      "    return degreeList\n",
      "\n",
      "def get_betweenness_centrality(graph):\n",
      "    \"\"\"\n",
      "    Args:\n",
      "      graph ... A networkx graph\n",
      "    Returns:\n",
      "      Return a list of (senator, degree) tuples.\n",
      "    \"\"\"\n",
      "    # Complete this method.\n",
      "    bcList=list((item[0],item[1]) for item in nx.algorithms.centrality.betweenness_centrality(graph).items())\n",
      "    return bcList\n",
      "\n",
      "# No need to modify the code below.\n",
      "degrees = get_degrees(graph)\n",
      "betweens = get_betweenness_centrality(graph)\n",
      "print 'degree'\n",
      "print '\\n'.join([str(d) for d in degrees])\n",
      "print '\\nbetweenness'\n",
      "print '\\n'.join([str(b) for b in betweens])\n",
      "plt.scatter([d[1] for d in degrees], [b[1] for b in betweens])\n",
      "plt.xlabel('degree')\n",
      "plt.ylabel('betweenness')\n",
      "plt.savefig('degree.png')"
     ],
     "language": "python",
     "metadata": {},
     "outputs": [
      {
       "output_type": "stream",
       "stream": "stdout",
       "text": [
        "degree\n",
        "('MarkUdall', 7)\n",
        "('SenGillibrand', 3)\n",
        "('SenatorLeahy', 4)\n",
        "('DavidVitter', 1)\n",
        "('PattyMurray', 3)\n",
        "('McConnellPress', 0)\n",
        "('SenatorCarper', 4)\n",
        "('kaybaileyhutch', 1)\n",
        "('SenatorHagan', 11)\n",
        "('SenJohnMcCain', 4)\n",
        "\n",
        "betweenness\n",
        "('MarkUdall', 0.034722222222222224)\n",
        "('SenGillibrand', 0.0)\n",
        "('SenatorLeahy', 0.0)\n",
        "('DavidVitter', 0.0)\n",
        "('PattyMurray', 0.0)\n",
        "('McConnellPress', 0.0)\n",
        "('SenatorCarper', 0.006944444444444444)\n",
        "('kaybaileyhutch', 0.0)\n",
        "('SenatorHagan', 0.25)\n",
        "('SenJohnMcCain', 0.05555555555555555)\n"
       ]
      },
      {
       "metadata": {},
       "output_type": "display_data",
       "png": "[encoded data removed]",
       "text": [
        "<matplotlib.figure.Figure at 0x108f1be10>"
       ]
      }
     ],
     "prompt_number": 100
    },
    {
     "cell_type": "markdown",
     "metadata": {},
     "source": [
      "That's it for now! This should give you a simple introduction to some of the key issues we'll cover in this course."
     ]
    }
   ],
   "metadata": {}
  }
 ]
}